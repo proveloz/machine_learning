{
 "cells": [
  {
   "cell_type": "markdown",
   "metadata": {},
   "source": [
    "## Autores: Héctor Rojas - Pablo Veloz"
   ]
  },
  {
   "cell_type": "markdown",
   "metadata": {},
   "source": [
    "__Estilo Css__"
   ]
  },
  {
   "cell_type": "code",
   "execution_count": 79,
   "metadata": {},
   "outputs": [
    {
     "data": {
      "text/html": [
       "\n",
       "<style>\n",
       "td, th {\n",
       "    text-align:left !important\n",
       "    }\n",
       "    \n",
       "table, th, td {\n",
       "  border: 1px solid black !important;\n",
       "}    \n",
       "</style>\n",
       "\n"
      ],
      "text/plain": [
       "<IPython.core.display.HTML object>"
      ]
     },
     "execution_count": 79,
     "metadata": {},
     "output_type": "execute_result"
    }
   ],
   "source": [
    "from IPython.core.display import HTML\n",
    "HTML(\"\"\"\n",
    "<style>\n",
    "td, th {\n",
    "    text-align:left !important\n",
    "    }\n",
    "    \n",
    "table, th, td {\n",
    "  border: 1px solid black !important;\n",
    "}    \n",
    "</style>\n",
    "\n",
    "\"\"\")"
   ]
  },
  {
   "cell_type": "markdown",
   "metadata": {},
   "source": [
    "# Prueba 1: Análisis de Sentimientos de Twitter\n",
    "\n",
    "- A continuación se presenta un problema clásico en el análisis de texto: Extraer el sentimiento asociado a un texto.\n",
    "    - Para esto, utilizaremos una base de datos provenientes de CrowdFlower.\n",
    "    - Para descargar los datos puede ejecutar el siguiente código:\n",
    "    \n",
    "        `- wget https://www.crowdflower.com/wp-content/uploads/2016/07/text_emotion.csv`"
   ]
  },
  {
   "cell_type": "markdown",
   "metadata": {},
   "source": [
    "- El __objetivo general__ de esta prueba es alcanzar el mejor desempeño posible para clasificar si un tweet es positivo o negativo.\n",
    "    - Para medir el desempeño, se evaluará con un conjunto de datos del cuál no tendrán acceso. De esta manera evitaremos que los modelos aprendan información sobre el conjunto de validación.\n",
    "    - Crea una carpeta de trabajo y guarda todos los archivos correspondientes (notebook, archivos auxiliares y csv).\n",
    "    - Una vez terminada la prueba, comprime la carpeta y sube el .zip a la sección correspondiente."
   ]
  },
  {
   "cell_type": "markdown",
   "metadata": {},
   "source": [
    "## __Objetivos__\n",
    "- Para alcanzar el objetivo general, su trabajo se puede desagregar en los siguientes puntos:\n",
    "    1. Generar un análisis exploratorio sobre los datos contenidos en el DataFrame, considerando palabras más comunes y distribución de las clases en el vector objetivo.\n",
    "    2. Preprocesamiento de Texto:\n",
    "      - Para trabajar adecuadamente con texto, debemos preprocesar y posteriormente representar cada oración como un conjunto de características.\n",
    "      - Para preprocesar los tweets, debemos transformarlos a lower case. Un problema recurrente en el análisis de texto es la alta ocurrencia de palabras comunes. Se recomienda eliminarlasmediante la declaración de stopwords. Para generar la exclusión de stopwords, podemos utilizar la librería nltk (Natural Language ToolKit) y descargar los stopwords con la siguiente instrucción.\n",
    "        - import nltk\n",
    "        - nltk.download('stopwords')\n",
    "- Puede refinar los atributos a capturar mediante el proceso de lemantización (la reducción de variadas palabras con un tronco léxico común; ejemplo: Organización, Organiza, y Organizado presentan organi_ como tronco léxico en comúmn) o Stemming (la reducción de una palabra a una expresión generalizable). Cabe destacar que ésta última carece de análisis morfológico del lenguaje.\n",
    "- Posterior a la refinación y preprocesamiento de las palabras, podemos representar cada oración en una matriz (o corpus) que permitirá reflejar la cantidad de ocurrencias de palabra en un registro. Para ello, pueden hacer uso de las librerías de preprocesamiento `sklearn.feature_extraction.text.CountVectorizer` o `sklearn.feature_extraction.text.TfidfVectorizer` de esta manera, tendremos un conjunto de características es mediante la frecuencia de ocurrencia de una palabra o término en el texto.\n",
    "    3. Preparación del vector objetivo y las matrices de entrenamiento y validación:\n",
    "    Nos interesa trabajar con dos tipos de emociones: positivas o negativas. Para ello deberá generar la recodificación de cada una de las clases en una de las dos emociones:\n",
    "    \n",
    "<table style=\"width:25%\">\n",
    "  <tr>\n",
    "    <th>Original</th>\n",
    "    <th>Recodificación</th>\n",
    "  </tr>\n",
    "  <tr>\n",
    "    <td>'worry'</td>\n",
    "    <td>Negativa</td>\n",
    " </tr>\n",
    " <tr>\n",
    "    <td>'happiness'</td>\n",
    "    <td>Positiva</td> \n",
    " </tr>    \n",
    " <tr>\n",
    "    <td>'sadness'</td>\n",
    "    <td>Negativa</td>\n",
    " </tr>    \n",
    " <tr>\n",
    "    <td>'love'</td>\n",
    "    <td>Positiva</td>\n",
    " </tr>      curso\n",
    " <tr>\n",
    "    <td>'surprise'</td>\n",
    "     <td>Positiva</td>\n",
    " </tr>  \n",
    "  <tr>\n",
    "      <td>'fun'</td>\n",
    "     <td>Positiva</td>\n",
    " </tr>  \n",
    " <tr>\n",
    "      <td>'relief'</td>\n",
    "     <td>Positiva</td>\n",
    " </tr>  \n",
    " <tr>\n",
    "     <td>'hate'</td>\n",
    "     <td>Negativa</td>\n",
    " </tr>    \n",
    "  <tr>\n",
    "     <td>'empty'</td>\n",
    "     <td>Negativa</td>\n",
    " </tr>    \n",
    "  <tr>\n",
    "     <td>'enthusiasm'</td>\n",
    "     <td>Positiva</td>\n",
    " </tr>      \n",
    "  <tr>\n",
    "     <td>'boredom'</td>\n",
    "     <td>Negativa</td>\n",
    " </tr>      \n",
    "  <tr> \n",
    "     <td>'anger'</td>\n",
    "     <td>Negativa</td>\n",
    " </tr>         \n",
    "</table> \n",
    "  \n",
    "- Si el tweet está asignado `neutral`, clasifíquelo aleatoriamente entre positivo o negativo  \n",
    "    4. Entrenamiento de modelos:\n",
    "    \n",
    "        - En base a los modelos vistos en clase, implemente por lo menos 5. Para cada uno de ellos justifique la elección de hiperparámetros. Si implementa búsqueda de grilla para cada uno de ellos, defina el rango de valores a tomar en cada hiperparámetro.\n",
    "    \n",
    "        - Reporte el desempeño de cada modelo en las muestras de entrenamiento y validación. Comente sobre la capacidad de generalización de cada uno de ellos haciendo uso de los conceptos vistos en el curso.\n",
    "    \n",
    "    5. Seleccione los 2 mejores modelos, serialicelos y envíelos a evaluación. Recuerde que el modelo serializado debe ser posterior al `fit` , para poder ejecutar predict en los nuevos datos.  \n",
    "    6. La evaluación del modelo será realizada en función a un conjunto de datos reservados al cual no tienen acceso."
   ]
  },
  {
   "cell_type": "markdown",
   "metadata": {},
   "source": [
    "## I.- __Aspectos Preliminares__\n",
    "### __Descripción del problema__  ¿Cómo clasificar si un tweet es positivo o negativo?<br>\n",
    "El problema recae en el análisis de sentimientos de un tweet, por lo tanto, desde un texto se debe clasificar si el sentimiento es `negativo` o `positivo`. Particularmente, el problema propuesto recae en la categoría de __clasificación binaria__, por su naturaleza dicotómica.<br>\n",
    "\n",
    "Para resolver este problema, además de emplear una técnica de aprendizaje automático propia, se conjuga con  procesamiento del lenguaje natural (PNL) cuyo campo en el aprendizaje automático es la capacidad de un computador para comprender, analizar, manipular y potencialmente generar lenguaje humano. Con ello, se analizará el texto importando la libreria NLTK especializada en PNL, es decir, en comprender el lenguaje humano por una máquina.<br>\n",
    "\n",
    "Los procedimientos y aspectos que resaltan para este trabajo, son:\n",
    "- __Proceso de Clasficación__\n",
    "    \n",
    "    \n",
    "<img src=\"pasos.png\">\n",
    "\n",
    "De esta manera, podemos generar algunos objetivos para dar solución a la problemática, a saber: \n",
    "- __Objetivos Específicos__\n",
    "    - Obtener los Datos: Importar data `training_tweets.csv`.\n",
    "    - Exploración Inicial: Graficar Variable objetivo `sentiment`.\n",
    "    - Estrategias de asignación de sentimientos: Recodificación de sentimientos en `positivos` y `negativos`. \n",
    "        - Diseño de estrategias para recodificar sentimientos definidos como `neutral`.\n",
    "    - Limpieza de datos: Remover stop words y generar stemming.\n",
    "    - Análisis Exploratorio: Graficar y ponderar el balance de clases `positivas` - `negativas`.\n",
    "    - Análisis de Sentimiento: Palabras más comunes para sentimientos`positivos` - `negativos`.\n",
    "    - Modelado de Tópicos: Modelos de clasificación y métricas atingente a clasificación. (se detalla más abajo)\n",
    "\n",
    "    "
   ]
  },
  {
   "cell_type": "markdown",
   "metadata": {},
   "source": [
    "## II.- Aspectos Computacionales\n",
    "### Módulos Requeridos:\n",
    "<table align=\"center\">\n",
    "    <caption> <H1><b>Módulos Gráficos</b></H1></caption>\n",
    "\t<tr>\n",
    "\t\t<th>Módulos</th>\n",
    "\t\t<th>Versión</th>\n",
    "\t\t<th>Descripción</th>\n",
    " \t</tr>\n",
    " \t<tr>\n",
    "  \t\t<td>Python</td>\n",
    "   \t\t<td> 3.7.3</td>\n",
    "\t\t<td style='text-align:left !important' >Lenguaje de Programación</td>\n",
    " \t</tr>\n",
    "\t<tr>\n",
    "  \t\t<td>Jupyter Notebook</td>\n",
    "   \t\t<td>1.0.2</td>\n",
    "\t\t<td>Entorno de desarrollo interactivo basado en la web para portátiles, código y datos Jupyter. JupyterLab es flexible: configure y organice la interfaz de usuario para admitir una amplia gama de flujos de trabajo en ciencia de datos, informática científica y aprendizaje automático</td>\n",
    " \t</tr>\n",
    "\t<tr>\n",
    "  \t\t<td>Pandas</td>\n",
    "   \t\t<td>0.24.2</td>\n",
    "\t\t<td>Es una biblioteca de código abierto con licencia BSD que proporciona estructuras de datos y herramientas de análisis de datos de alto rendimiento\n",
    "        </td>\n",
    " \t</tr>\n",
    "\t<tr>\n",
    "  \t\t<td>matplotlib.pyplot</td>\n",
    "   \t\t<td>3.1.0</td>\n",
    "\t\t<td>Es una biblioteca gráfica 2D de Python que produce cifras de calidad de publicación en una variedad de formatos impresos y entornos interactivos en todas las plataformas</td>\n",
    " \t</tr>\n",
    "    <tr>\n",
    "  \t\t<td>seaborn</td>\n",
    "   \t\t<td>0.9.0 </td>\n",
    "\t\t<td>Se ocupará para visualizar relaciones, si bien se basa en mathplotlib posee una alternativa más atractiva e informativa para las graficas.</td>\n",
    " \t</tr>\n",
    "</table>\n",
    "\n",
    "<table align=\"center\">\n",
    "    <caption> <H1><b>Módulos Procesamiento de texto</b></H1></caption>\n",
    "\t<tr>\n",
    "\t\t<th>Módulos</th>\n",
    "\t\t<th>Versión</th>\n",
    "\t\t<th>Descripción</th>\n",
    " \t</tr>\n",
    " \t<tr>\n",
    "  \t\t<td>nltk.corpus import stopwords</td>\n",
    "   \t\t<td> 3.4.4</td>\n",
    "\t\t<td>Es un módulo que identifica palabras de conocidas como stopWords como \"el\", \"es\", \"son\", que no inciden en la identificación de un sentimiento. Estas palabras, se pueden filtrar del texto a procesar. No existe una lista universal de palabras de detención en la investigación de nlp, sin embargo, el módulo nltk contiene una lista de palabras de detención.</td>\n",
    " \t</tr>\n",
    "\t<tr>\n",
    "  \t\t<td>nltk.stem import PorterStemmer</td>\n",
    "   \t\t<td>3.4.4</td>\n",
    "\t\t<td>Stemming es el proceso de producir variantes morfológicas de una palabra raíz / base. Los programas de derivación se denominan comúnmente algoritmos de derivación o stemmers. Un algoritmo de derivación reduce las palabras \"recuperación\", \"recuperado\", \"recuperó\" reduce a la raíz \"recupera\".</td>\n",
    " \t</tr>\n",
    "\t<tr>\n",
    "  \t\t<td>sklearn.feature_extraction.text.TfidfVectorizer</td>\n",
    "   \t\t<td>0.21.2</td>\n",
    "\t\t<td>TF-IDF corresponde a una estadística que mide la importancia de un término en relación con un documento y un corpus\n",
    "        </td>\n",
    " \t</tr>\n",
    "    <tr>\n",
    "  \t\t<td>re</td>\n",
    "   \t\t<td>3.7.3</td>\n",
    "\t\t<td> Este módulo proporciona operaciones de coincidencia de expresiones regulares.\n",
    "        </td>\n",
    " \t</tr>\n",
    "    \n",
    "</table>\n",
    "\n",
    "<table align=\"center\">\n",
    "    <caption> <H1><b>Módulos Machine Learning</b></H1></caption>\n",
    "\t<tr>\n",
    "\t\t<th>Módulos</th>\n",
    "\t\t<th>Versión</th>\n",
    "\t\t<th>Descripción</th>\n",
    " \t</tr>\n",
    " \t<tr>\n",
    "  \t\t<td>sklearn</td>\n",
    "   \t\t<td> 0.21.2</td>\n",
    "\t\t<td> Es una biblioteca para aprendizaje de máquina de software libre para el lenguaje de programación Python.1​ Incluye varios algoritmos de clasificación, regresión y análisis de grupos</td>\n",
    " \t</tr>\n",
    "\t<tr>\n",
    "  \t\t<td>selection.train_test_split</td>\n",
    "   \t\t<td>0.21.2</td>\n",
    "\t\t<td>Dividir matrices o arreglos aleatorios en subconjuntos de entrenamiento y prueba.</td>\n",
    " \t</tr>\n",
    "\t<tr>\n",
    "  \t\t<td>preproccesing.StandardScaler</td>\n",
    "   \t\t<td>0.21.2</td>\n",
    "\t\t<td>Estandariza las características escalando los datos a la varianza de la unidad\n",
    "        </td>\n",
    " \t</tr>\n",
    "    <tr>\n",
    "  \t\t<td>linear_model.LogisticRegression</td>\n",
    "   \t\t<td>0.21.2</td>\n",
    "        <td> Es uno de los algoritmos de aprendizaje automático más utilizados, junto a la regresión lineal. En muchos sentidos, la regresión lineal y la regresión logística son similares. Pero, la mayor diferencia es que los algoritmos de regresión lineal se usan para predecir / pronosticar valores continuos, pero la regresión logística se usa para las tareas de clasificación.\n",
    "\n",
    "El resultado de la regresión logística es una curva sigmoidea, o curva S, donde el valor de la variable independiente determinaría la variable dependiente. En la regresión logística binaria, solo hay dos resultados posibles, como 0 y 1. Utiliza un valor umbral para facilitar la predicción. Entonces, si la probabilidad predicha es menor que el valor umbral, el resultado se toma como 0 y si es mayor que el valor, el resultado se toma como 1.     </td>\n",
    " \t</tr>\n",
    "       <tr>\n",
    "  \t\t<td>svm.SVC</td>\n",
    "   \t\t<td>0.21.2</td>\n",
    "        <td> Es un algoritmo supervisado de aprendizaje automático que se puede usar para problemas de clasificación y regresión. En este algoritmo, graficamos cada elemento de datos como un punto en el espacio n-dimensional (donde n es el recuento del número de entidades) con el valor de cada entidad como el valor de una coordenada particular. Luego, realizamos la clasificación al encontrar el hiperplano que diferencia muy bien las dos clases.\n",
    "\n",
    "En SVM, es beneficioso tener un hiperplano lineal entre dos clases. Para clases fácilmente separables, un hiperplano lineal óptimo hace la tarea. Sin embargo, si las clases no pueden estar separadas por un hiperplano lineal, digamos, una clase de punto de datos se extiende como un círculo y mantiene otra clase de punto de datos dentro de su círculo. Dado que tales clases no pueden estar separadas por un hiperplano lineal en el estado actual, para abordar este problema, SVM utiliza un método llamado truco del núcleo. El truco del kernel actúa como una función que toma espacio de entrada de baja dimensión y lo transforma en un espacio de dimensión superior. Es sobre todo útil en problemas de separación no lineal como el indicado anteriormente. En pocas palabras, realiza algunas transformaciones de datos complejas para descubrir la forma de separar los datos en función de las clases definidas     </td>\n",
    " \t</tr> \n",
    "    <tr>\n",
    "  \t\t<td>naive_bayes.BernoulliNB</td>\n",
    "   \t\t<td>0.21.2</td>\n",
    "        <td>Los ingenuos Bayes son una familia de clasificadores potentes y fáciles de entrenar, que determinan la probabilidad de un resultado, dado un conjunto de condiciones utilizando el teorema de Bayes. En otras palabras, las probabilidades condicionales se invierten para que la consulta se pueda expresar en función de cantidades medibles. El enfoque es simple y el adjetivo ingenuo se ha atribuido no porque estos algoritmos sean limitados o menos eficientes, sino por una suposición fundamental sobre los factores causales que discutiremos.\n",
    "\n",
    "Los ingenuos Bayes son clasificadores multipropósito y es fácil encontrar su aplicación en muchos contextos diferentes. Sin embargo, el rendimiento es particularmente bueno en todas aquellas situaciones en las que la probabilidad de una clase está determinada por las probabilidades de algunos factores causales. Un buen ejemplo es el procesamiento del lenguaje natural, donde un texto puede considerarse como una instancia particular de un diccionario y las frecuencias relativas de todos los términos proporcionan suficiente información para inferir una clase perteneciente.       </td>\n",
    " \t</tr> \n",
    "    <tr>\n",
    "  \t\t<td>ensemble.AdaBoostClassifier¶</td>\n",
    "   \t\t<td>0.21.2</td>\n",
    "        <td>AdaBoost es un método de conjunto iterativo. El clasificador AdaBoost crea un clasificador fuerte combinando múltiples clasificadores de bajo rendimiento para que obtenga un clasificador fuerte de alta precisión. El concepto básico detrás de Adaboost es establecer los pesos de los clasificadores y entrenar la muestra de datos en cada iteración de modo que garantice las predicciones precisas de observaciones inusuales. Cualquier algoritmo de aprendizaje automático se puede utilizar como clasificador base si acepta pesos en el conjunto de entrenamiento. Adaboost debe cumplir dos condiciones:\n",
    "- El clasificador debe ser entrenado de manera interactiva en varios ejemplos de entrenamiento pesado.\n",
    "- En cada iteración, intenta proporcionar un ajuste excelente para estos ejemplos minimizando el error de entrenamiento.      </td>\n",
    " \t</tr> \n",
    "    <tr>\n",
    "  \t\t<td>ensemble.RandomForestClassifier¶¶</td>\n",
    "   \t\t<td>0.21.2</td>\n",
    "        <td>  Es uno de los algoritmos más factibles y fáciles de usar. Como sabemos, un bosque está compuesto de árboles, el mismo caso también está aquí. Los bosques aleatorios crean árboles de decisión en muestras de datos seleccionadas al azar, obtienen una predicción de cada árbol y seleccionan la mejor solución mediante la votación. Podemos usar bosque aleatorio para conocer la importancia de cada característica.\n",
    "El bosque aleatorio es un algoritmo de aprendizaje automático que utiliza un método de conjunto. Se dice que el bosque aleatorio está formado por numerosos árboles de decisión y ayuda a abordar el problema del sobreajuste en los árboles de decisión. Estos árboles de decisión se construyen aleatoriamente seleccionando características aleatorias del conjunto de datos dado.</td>\n",
    " \t</tr> \n",
    "    </table>\n",
    "         \n",
    "<table align=\"center\">\n",
    "    <caption> <H1><b>Métricas</b></H1></caption>\n",
    "\t<tr>\n",
    "\t\t<th>Módulos</th>\n",
    "\t\t<th>Versión</th>\n",
    "\t\t<th>Descripción</th>\n",
    " \t</tr>\n",
    " \t<tr>\n",
    "  \t\t<td>Accuracy</td>\n",
    "   \t\t<td>0.21.2</td>\n",
    "\t\t<td>Estimativo de casos predichos correctamente entre el total de casos.</td>\n",
    " \t</tr>\n",
    "\t<tr>\n",
    "  \t\t<td>Precision</td>\n",
    "   \t\t<td>0.21.2</td>\n",
    "\t\t<td>Estimativo entre las predicciones correctas y casos positivos.</td>\n",
    " \t</tr>\n",
    "\t<tr>\n",
    "  \t\t<td>Recall</td>\n",
    "   \t\t<td>0.21.2</td>\n",
    "\t\t<td>Estimativo entre los verdaderos positivos predichos por el modelo.\n",
    "        </td>\n",
    " \t</tr>\n",
    "\t<tr>\n",
    "  \t\t<td>F1</td>\n",
    "   \t\t<td>0.21.2</td>\n",
    "\t\t<td>Estimativo de la media entre Precision y Recall</td>\n",
    " \t</tr>\n",
    "    <tr>\n",
    "  \t\t<td>confusion_matrix</td>\n",
    "   \t\t<td>0.21.2 </td>\n",
    "\t\t<td>Una matriz de confusión es un resumen de los resultados de predicción sobre un problema de clasificación.\n",
    "El número de predicciones correctas e incorrectas se resume con valores de conteo y se desglosa por clase.</td>\n",
    " \t</tr>\n",
    "    <tr>\n",
    "  \t\t<td>roc_curve</td>\n",
    "   \t\t<td>0.21.2</td>\n",
    "\t\t<td> evalúa la relación entre ambos errores (falsos positivos y falso negativo) condicional en todo el rango del clasificador</td>\n",
    " \t</tr>\n",
    "   "
   ]
  },
  {
   "cell_type": "markdown",
   "metadata": {},
   "source": [
    "### III.- Análisis Exploratorio"
   ]
  },
  {
   "cell_type": "code",
   "execution_count": 80,
   "metadata": {},
   "outputs": [],
   "source": [
    "import aux_funciones as auxiliares\n",
    "import seaborn as sns\n",
    "import pandas as pd\n",
    "import re\n",
    "import numpy as np\n",
    "import matplotlib.pyplot as plt\n",
    "from nltk.corpus import stopwords\n",
    "from nltk.stem import PorterStemmer\n",
    "from sklearn.feature_extraction.text import TfidfVectorizer\n",
    "from sklearn.pipeline import Pipeline\n",
    "from sklearn.metrics import classification_report, confusion_matrix\n",
    "from sklearn.model_selection import train_test_split\n",
    "from sklearn.feature_extraction.text import CountVectorizer\n",
    "from sklearn.ensemble import RandomForestClassifier\n",
    "import pickle\n",
    "%matplotlib inline"
   ]
  },
  {
   "cell_type": "markdown",
   "metadata": {},
   "source": [
    "__Carga de Datos__"
   ]
  },
  {
   "cell_type": "code",
   "execution_count": 81,
   "metadata": {},
   "outputs": [],
   "source": [
    "df = pd.read_csv('training_tweets.csv').drop('Unnamed: 0', axis=1)"
   ]
  },
  {
   "cell_type": "markdown",
   "metadata": {},
   "source": [
    "__Inspección de Datos__"
   ]
  },
  {
   "cell_type": "code",
   "execution_count": 82,
   "metadata": {},
   "outputs": [
    {
     "data": {
      "text/html": [
       "<div>\n",
       "<style scoped>\n",
       "    .dataframe tbody tr th:only-of-type {\n",
       "        vertical-align: middle;\n",
       "    }\n",
       "\n",
       "    .dataframe tbody tr th {\n",
       "        vertical-align: top;\n",
       "    }\n",
       "\n",
       "    .dataframe thead th {\n",
       "        text-align: right;\n",
       "    }\n",
       "</style>\n",
       "<table border=\"1\" class=\"dataframe\">\n",
       "  <thead>\n",
       "    <tr style=\"text-align: right;\">\n",
       "      <th></th>\n",
       "      <th>content</th>\n",
       "      <th>sentiment</th>\n",
       "    </tr>\n",
       "  </thead>\n",
       "  <tbody>\n",
       "    <tr>\n",
       "      <th>0</th>\n",
       "      <td>Happy Mama's day to all mothers</td>\n",
       "      <td>love</td>\n",
       "    </tr>\n",
       "    <tr>\n",
       "      <th>1</th>\n",
       "      <td>@LysdelTellez I am lost. Please help me find a...</td>\n",
       "      <td>worry</td>\n",
       "    </tr>\n",
       "    <tr>\n",
       "      <th>2</th>\n",
       "      <td>@BoomKatt yes yes I AM, networking whore to th...</td>\n",
       "      <td>happiness</td>\n",
       "    </tr>\n",
       "    <tr>\n",
       "      <th>3</th>\n",
       "      <td>you@snapplynn Wish that would have been your t...</td>\n",
       "      <td>neutral</td>\n",
       "    </tr>\n",
       "    <tr>\n",
       "      <th>4</th>\n",
       "      <td>now i am doing the MicroEconomics project  iha...</td>\n",
       "      <td>worry</td>\n",
       "    </tr>\n",
       "  </tbody>\n",
       "</table>\n",
       "</div>"
      ],
      "text/plain": [
       "                                             content  sentiment\n",
       "0                    Happy Mama's day to all mothers       love\n",
       "1  @LysdelTellez I am lost. Please help me find a...      worry\n",
       "2  @BoomKatt yes yes I AM, networking whore to th...  happiness\n",
       "3  you@snapplynn Wish that would have been your t...    neutral\n",
       "4  now i am doing the MicroEconomics project  iha...      worry"
      ]
     },
     "execution_count": 82,
     "metadata": {},
     "output_type": "execute_result"
    }
   ],
   "source": [
    "df.head()"
   ]
  },
  {
   "cell_type": "markdown",
   "metadata": {},
   "source": [
    "__Inspección de vector Objetivo__: Sentimientos más comunes"
   ]
  },
  {
   "cell_type": "code",
   "execution_count": 83,
   "metadata": {},
   "outputs": [
    {
     "data": {
      "text/plain": [
       "((-0.5, 1599.5, 1199.5, -0.5),)"
      ]
     },
     "execution_count": 83,
     "metadata": {},
     "output_type": "execute_result"
    },
    {
     "data": {
      "image/png": "[encoded data removed]",
      "text/plain": [
       "<Figure size 576x1800 with 1 Axes>"
      ]
     },
     "metadata": {
      "needs_background": "light"
     },
     "output_type": "display_data"
    }
   ],
   "source": [
    "from wordcloud import WordCloud\n",
    "cloud = WordCloud(width=1600, height=1200, collocations=False).generate(\" \".join(df['sentiment'].astype(str)))\n",
    "plt.figure(figsize=(8, 25))\n",
    "plt.imshow(cloud)\n",
    "plt.axis('off'),"
   ]
  },
  {
   "cell_type": "code",
   "execution_count": 84,
   "metadata": {
    "scrolled": true
   },
   "outputs": [
    {
     "data": {
      "text/plain": [
       "neutral       6451\n",
       "worry         6337\n",
       "happiness     3952\n",
       "sadness       3869\n",
       "love          2908\n",
       "surprise      1619\n",
       "fun           1331\n",
       "relief        1158\n",
       "hate           975\n",
       "empty          617\n",
       "enthusiasm     559\n",
       "boredom        135\n",
       "anger           89\n",
       "Name: sentiment, dtype: int64"
      ]
     },
     "execution_count": 84,
     "metadata": {},
     "output_type": "execute_result"
    }
   ],
   "source": [
    "df[\"sentiment\"].value_counts()"
   ]
  },
  {
   "cell_type": "markdown",
   "metadata": {},
   "source": [
    "__Graficar Sentimientos con mayor frecuencia__"
   ]
  },
  {
   "cell_type": "code",
   "execution_count": 85,
   "metadata": {},
   "outputs": [
    {
     "data": {
      "image/png": "[encoded data removed]",
      "text/plain": [
       "<Figure size 864x504 with 1 Axes>"
      ]
     },
     "metadata": {
      "needs_background": "light"
     },
     "output_type": "display_data"
    }
   ],
   "source": [
    "plt.figure(figsize=(12, 7))\n",
    "font = {'family': 'serif','color':  'darkred','weight': 'normal','size': 20}\n",
    "ax=sns.countplot(x = df['sentiment'],data = df,order = df['sentiment'].value_counts().index)\n",
    "plt.title('Frecuencias {}'.format(\"Sentimientos con mayor Frecuencia\"),fontdict=font)\n",
    "#plt.title()\n",
    "plt.xticks(fontsize=15)\n",
    "plt.yticks(fontsize=15)\n",
    "ax.tick_params(axis='x', rotation=70)\n",
    "plt.show()"
   ]
  },
  {
   "cell_type": "markdown",
   "metadata": {},
   "source": [
    "__Binarizar Sentimientos__\n"
   ]
  },
  {
   "cell_type": "code",
   "execution_count": 86,
   "metadata": {},
   "outputs": [],
   "source": [
    "def bin_sentiment(sentiment): \n",
    "    positivos=[\"happiness\",\"love\",\"surprise\",\"fun\",\"relief\",\"enthusiasm\"]\n",
    "    negativos=[\"worry\",\"sadness\",\"hate\",\"empty\",\"boredom\",\"anger\"]\n",
    "    if sentiment in positivos: \n",
    "        return \"positiva\"\n",
    "    elif sentiment in negativos: \n",
    "        return \"negativa\"\n",
    "    else:\n",
    "        return \"neutral\""
   ]
  },
  {
   "cell_type": "code",
   "execution_count": 87,
   "metadata": {},
   "outputs": [],
   "source": [
    "df[\"bin_sentiment\"] = df[\"sentiment\"].apply(bin_sentiment) "
   ]
  },
  {
   "cell_type": "code",
   "execution_count": 88,
   "metadata": {},
   "outputs": [
    {
     "data": {
      "text/html": [
       "<div>\n",
       "<style scoped>\n",
       "    .dataframe tbody tr th:only-of-type {\n",
       "        vertical-align: middle;\n",
       "    }\n",
       "\n",
       "    .dataframe tbody tr th {\n",
       "        vertical-align: top;\n",
       "    }\n",
       "\n",
       "    .dataframe thead th {\n",
       "        text-align: right;\n",
       "    }\n",
       "</style>\n",
       "<table border=\"1\" class=\"dataframe\">\n",
       "  <thead>\n",
       "    <tr style=\"text-align: right;\">\n",
       "      <th></th>\n",
       "      <th>content</th>\n",
       "      <th>sentiment</th>\n",
       "      <th>bin_sentiment</th>\n",
       "    </tr>\n",
       "  </thead>\n",
       "  <tbody>\n",
       "    <tr>\n",
       "      <th>0</th>\n",
       "      <td>Happy Mama's day to all mothers</td>\n",
       "      <td>love</td>\n",
       "      <td>positiva</td>\n",
       "    </tr>\n",
       "    <tr>\n",
       "      <th>1</th>\n",
       "      <td>@LysdelTellez I am lost. Please help me find a...</td>\n",
       "      <td>worry</td>\n",
       "      <td>negativa</td>\n",
       "    </tr>\n",
       "    <tr>\n",
       "      <th>2</th>\n",
       "      <td>@BoomKatt yes yes I AM, networking whore to th...</td>\n",
       "      <td>happiness</td>\n",
       "      <td>positiva</td>\n",
       "    </tr>\n",
       "    <tr>\n",
       "      <th>3</th>\n",
       "      <td>you@snapplynn Wish that would have been your t...</td>\n",
       "      <td>neutral</td>\n",
       "      <td>neutral</td>\n",
       "    </tr>\n",
       "    <tr>\n",
       "      <th>4</th>\n",
       "      <td>now i am doing the MicroEconomics project  iha...</td>\n",
       "      <td>worry</td>\n",
       "      <td>negativa</td>\n",
       "    </tr>\n",
       "  </tbody>\n",
       "</table>\n",
       "</div>"
      ],
      "text/plain": [
       "                                             content  sentiment bin_sentiment\n",
       "0                    Happy Mama's day to all mothers       love      positiva\n",
       "1  @LysdelTellez I am lost. Please help me find a...      worry      negativa\n",
       "2  @BoomKatt yes yes I AM, networking whore to th...  happiness      positiva\n",
       "3  you@snapplynn Wish that would have been your t...    neutral       neutral\n",
       "4  now i am doing the MicroEconomics project  iha...      worry      negativa"
      ]
     },
     "execution_count": 88,
     "metadata": {},
     "output_type": "execute_result"
    }
   ],
   "source": [
    "df.head()"
   ]
  },
  {
   "cell_type": "code",
   "execution_count": 89,
   "metadata": {},
   "outputs": [
    {
     "data": {
      "image/png": "[encoded data removed]",
      "text/plain": [
       "<Figure size 576x432 with 1 Axes>"
      ]
     },
     "metadata": {},
     "output_type": "display_data"
    }
   ],
   "source": [
    "def circ_sentiments():\n",
    "    font = {'family': 'serif','color':  'darkred','weight': 'normal','size': 25}\n",
    "    plot_size = plt.rcParams[\"figure.figsize\"] \n",
    "    plot_size[0] = 8\n",
    "    plot_size[1] = 6\n",
    "    plt.rcParams[\"figure.figsize\"] = plot_size \n",
    "    ax=df.bin_sentiment.value_counts().plot(kind='pie', autopct='%1.0f%%',shadow=True)\n",
    "    plt.title('Porcentaje de {}'.format(\"sentimientos\"),fontdict=font)\n",
    "    #ax.set_xlabel('')\n",
    "    ax.set_ylabel('')\n",
    "circ_sentiments()"
   ]
  },
  {
   "cell_type": "markdown",
   "metadata": {},
   "source": [
    "### Asignando de manera aleatoria los sentimientos de tipo neutral"
   ]
  },
  {
   "cell_type": "code",
   "execution_count": 90,
   "metadata": {},
   "outputs": [],
   "source": [
    "from random import choice\n",
    "def bin_sentiment(sentiment): \n",
    "    positivos=[\"happiness\",\"love\",\"surprise\",\"fun\",\"relief\",\"enthusiasm\"]\n",
    "    negativos=[\"worry\",\"sadness\",\"hate\",\"empty\",\"boredom\",\"anger\"]\n",
    "    neutral=[\"neutral\"]\n",
    "    listado=[\"positiva\",\"negativa\"]\n",
    "    if sentiment in positivos: \n",
    "        return \"positiva\"\n",
    "    elif sentiment in negativos: \n",
    "        return \"negativa\"\n",
    "    elif sentiment in neutral:\n",
    "        return choice(listado)\n",
    "\n",
    "\n",
    "#def neutral(sentiment): \n",
    "#    listado=[\"positiva\",\"negativa\"]\n",
    "#    if sentiment == \"neutral\":\n",
    "#        a=choice(listado)\n",
    "#        return a\n",
    "#    else:\n",
    "#        pass;"
   ]
  },
  {
   "cell_type": "code",
   "execution_count": 91,
   "metadata": {
    "scrolled": true
   },
   "outputs": [
    {
     "data": {
      "text/html": [
       "<div>\n",
       "<style scoped>\n",
       "    .dataframe tbody tr th:only-of-type {\n",
       "        vertical-align: middle;\n",
       "    }\n",
       "\n",
       "    .dataframe tbody tr th {\n",
       "        vertical-align: top;\n",
       "    }\n",
       "\n",
       "    .dataframe thead th {\n",
       "        text-align: right;\n",
       "    }\n",
       "</style>\n",
       "<table border=\"1\" class=\"dataframe\">\n",
       "  <thead>\n",
       "    <tr style=\"text-align: right;\">\n",
       "      <th></th>\n",
       "      <th>content</th>\n",
       "      <th>sentiment</th>\n",
       "      <th>bin_sentiment</th>\n",
       "    </tr>\n",
       "  </thead>\n",
       "  <tbody>\n",
       "    <tr>\n",
       "      <th>0</th>\n",
       "      <td>Happy Mama's day to all mothers</td>\n",
       "      <td>love</td>\n",
       "      <td>positiva</td>\n",
       "    </tr>\n",
       "    <tr>\n",
       "      <th>1</th>\n",
       "      <td>@LysdelTellez I am lost. Please help me find a...</td>\n",
       "      <td>worry</td>\n",
       "      <td>negativa</td>\n",
       "    </tr>\n",
       "    <tr>\n",
       "      <th>2</th>\n",
       "      <td>@BoomKatt yes yes I AM, networking whore to th...</td>\n",
       "      <td>happiness</td>\n",
       "      <td>positiva</td>\n",
       "    </tr>\n",
       "    <tr>\n",
       "      <th>3</th>\n",
       "      <td>you@snapplynn Wish that would have been your t...</td>\n",
       "      <td>neutral</td>\n",
       "      <td>positiva</td>\n",
       "    </tr>\n",
       "    <tr>\n",
       "      <th>4</th>\n",
       "      <td>now i am doing the MicroEconomics project  iha...</td>\n",
       "      <td>worry</td>\n",
       "      <td>negativa</td>\n",
       "    </tr>\n",
       "  </tbody>\n",
       "</table>\n",
       "</div>"
      ],
      "text/plain": [
       "                                             content  sentiment bin_sentiment\n",
       "0                    Happy Mama's day to all mothers       love      positiva\n",
       "1  @LysdelTellez I am lost. Please help me find a...      worry      negativa\n",
       "2  @BoomKatt yes yes I AM, networking whore to th...  happiness      positiva\n",
       "3  you@snapplynn Wish that would have been your t...    neutral      positiva\n",
       "4  now i am doing the MicroEconomics project  iha...      worry      negativa"
      ]
     },
     "execution_count": 91,
     "metadata": {},
     "output_type": "execute_result"
    }
   ],
   "source": [
    "df[\"bin_sentiment\"] = df[\"sentiment\"].apply(bin_sentiment) \n",
    "df.head()"
   ]
  },
  {
   "cell_type": "code",
   "execution_count": 92,
   "metadata": {},
   "outputs": [
    {
     "data": {
      "image/png": "[encoded data removed]",
      "text/plain": [
       "<Figure size 576x432 with 1 Axes>"
      ]
     },
     "metadata": {},
     "output_type": "display_data"
    }
   ],
   "source": [
    "circ_sentiments()"
   ]
  },
  {
   "cell_type": "markdown",
   "metadata": {},
   "source": [
    "### - __Limpieza de Texto__"
   ]
  },
  {
   "cell_type": "markdown",
   "metadata": {},
   "source": [
    "- __Remover menciones__\n",
    "   - Aplicando una función que reemplaza @ por ' '.<br>"
   ]
  },
  {
   "cell_type": "code",
   "execution_count": 93,
   "metadata": {},
   "outputs": [],
   "source": [
    "df['new_content'] = df['content'].apply(lambda x: \"\".join(re.sub('@\\S+', '', x)))"
   ]
  },
  {
   "cell_type": "markdown",
   "metadata": {},
   "source": [
    "- __Remover urls__\n",
    "   - Aplicando una función que reemplaza http o https por ' '."
   ]
  },
  {
   "cell_type": "code",
   "execution_count": 94,
   "metadata": {},
   "outputs": [],
   "source": [
    "df['new_content'] = df['new_content'].apply(lambda x: \"\".join(re.sub('http[s]?://\\S+', '', x)))"
   ]
  },
  {
   "cell_type": "code",
   "execution_count": 95,
   "metadata": {},
   "outputs": [
    {
     "data": {
      "text/html": [
       "<div>\n",
       "<style scoped>\n",
       "    .dataframe tbody tr th:only-of-type {\n",
       "        vertical-align: middle;\n",
       "    }\n",
       "\n",
       "    .dataframe tbody tr th {\n",
       "        vertical-align: top;\n",
       "    }\n",
       "\n",
       "    .dataframe thead th {\n",
       "        text-align: right;\n",
       "    }\n",
       "</style>\n",
       "<table border=\"1\" class=\"dataframe\">\n",
       "  <thead>\n",
       "    <tr style=\"text-align: right;\">\n",
       "      <th></th>\n",
       "      <th>content</th>\n",
       "      <th>sentiment</th>\n",
       "      <th>bin_sentiment</th>\n",
       "      <th>new_content</th>\n",
       "    </tr>\n",
       "  </thead>\n",
       "  <tbody>\n",
       "    <tr>\n",
       "      <th>0</th>\n",
       "      <td>Happy Mama's day to all mothers</td>\n",
       "      <td>love</td>\n",
       "      <td>positiva</td>\n",
       "      <td>Happy Mama's day to all mothers</td>\n",
       "    </tr>\n",
       "    <tr>\n",
       "      <th>1</th>\n",
       "      <td>@LysdelTellez I am lost. Please help me find a...</td>\n",
       "      <td>worry</td>\n",
       "      <td>negativa</td>\n",
       "      <td>I am lost. Please help me find a good home.</td>\n",
       "    </tr>\n",
       "    <tr>\n",
       "      <th>2</th>\n",
       "      <td>@BoomKatt yes yes I AM, networking whore to th...</td>\n",
       "      <td>happiness</td>\n",
       "      <td>positiva</td>\n",
       "      <td>yes yes I AM, networking whore to the fullest...</td>\n",
       "    </tr>\n",
       "    <tr>\n",
       "      <th>3</th>\n",
       "      <td>you@snapplynn Wish that would have been your t...</td>\n",
       "      <td>neutral</td>\n",
       "      <td>positiva</td>\n",
       "      <td>you Wish that would have been your tweet after...</td>\n",
       "    </tr>\n",
       "    <tr>\n",
       "      <th>4</th>\n",
       "      <td>now i am doing the MicroEconomics project  iha...</td>\n",
       "      <td>worry</td>\n",
       "      <td>negativa</td>\n",
       "      <td>now i am doing the MicroEconomics project  iha...</td>\n",
       "    </tr>\n",
       "  </tbody>\n",
       "</table>\n",
       "</div>"
      ],
      "text/plain": [
       "                                             content  sentiment bin_sentiment  \\\n",
       "0                    Happy Mama's day to all mothers       love      positiva   \n",
       "1  @LysdelTellez I am lost. Please help me find a...      worry      negativa   \n",
       "2  @BoomKatt yes yes I AM, networking whore to th...  happiness      positiva   \n",
       "3  you@snapplynn Wish that would have been your t...    neutral      positiva   \n",
       "4  now i am doing the MicroEconomics project  iha...      worry      negativa   \n",
       "\n",
       "                                         new_content  \n",
       "0                    Happy Mama's day to all mothers  \n",
       "1        I am lost. Please help me find a good home.  \n",
       "2   yes yes I AM, networking whore to the fullest...  \n",
       "3  you Wish that would have been your tweet after...  \n",
       "4  now i am doing the MicroEconomics project  iha...  "
      ]
     },
     "execution_count": 95,
     "metadata": {},
     "output_type": "execute_result"
    }
   ],
   "source": [
    "df.head()"
   ]
  },
  {
   "cell_type": "code",
   "execution_count": 96,
   "metadata": {},
   "outputs": [
    {
     "name": "stderr",
     "output_type": "stream",
     "text": [
      "[nltk_data] Downloading package stopwords to /home/hector/nltk_data...\n",
      "[nltk_data]   Package stopwords is already up-to-date!\n"
     ]
    },
    {
     "data": {
      "text/plain": [
       "True"
      ]
     },
     "execution_count": 96,
     "metadata": {},
     "output_type": "execute_result"
    }
   ],
   "source": [
    "import nltk\n",
    "nltk.download('stopwords')"
   ]
  },
  {
   "cell_type": "markdown",
   "metadata": {},
   "source": [
    "- __Stemmming__"
   ]
  },
  {
   "cell_type": "code",
   "execution_count": 97,
   "metadata": {},
   "outputs": [],
   "source": [
    "stemmer = PorterStemmer()\n",
    "words = stopwords.words(\"english\")\n",
    "df['content_cleaned'] = df['new_content'].apply(lambda x: \" \".join([stemmer.stem(i) for i in re.sub(\"[^a-zA-Z]\", \" \", x).split() if i not in words]).lower())"
   ]
  },
  {
   "cell_type": "code",
   "execution_count": 98,
   "metadata": {},
   "outputs": [
    {
     "data": {
      "text/html": [
       "<div>\n",
       "<style scoped>\n",
       "    .dataframe tbody tr th:only-of-type {\n",
       "        vertical-align: middle;\n",
       "    }\n",
       "\n",
       "    .dataframe tbody tr th {\n",
       "        vertical-align: top;\n",
       "    }\n",
       "\n",
       "    .dataframe thead th {\n",
       "        text-align: right;\n",
       "    }\n",
       "</style>\n",
       "<table border=\"1\" class=\"dataframe\">\n",
       "  <thead>\n",
       "    <tr style=\"text-align: right;\">\n",
       "      <th></th>\n",
       "      <th>content</th>\n",
       "      <th>sentiment</th>\n",
       "      <th>bin_sentiment</th>\n",
       "      <th>new_content</th>\n",
       "      <th>content_cleaned</th>\n",
       "    </tr>\n",
       "  </thead>\n",
       "  <tbody>\n",
       "    <tr>\n",
       "      <th>0</th>\n",
       "      <td>Happy Mama's day to all mothers</td>\n",
       "      <td>love</td>\n",
       "      <td>positiva</td>\n",
       "      <td>Happy Mama's day to all mothers</td>\n",
       "      <td>happi mama day mother</td>\n",
       "    </tr>\n",
       "    <tr>\n",
       "      <th>1</th>\n",
       "      <td>@LysdelTellez I am lost. Please help me find a...</td>\n",
       "      <td>worry</td>\n",
       "      <td>negativa</td>\n",
       "      <td>I am lost. Please help me find a good home.</td>\n",
       "      <td>i lost pleas help find good home</td>\n",
       "    </tr>\n",
       "    <tr>\n",
       "      <th>2</th>\n",
       "      <td>@BoomKatt yes yes I AM, networking whore to th...</td>\n",
       "      <td>happiness</td>\n",
       "      <td>positiva</td>\n",
       "      <td>yes yes I AM, networking whore to the fullest...</td>\n",
       "      <td>ye ye i am network whore fullest girl rih next</td>\n",
       "    </tr>\n",
       "    <tr>\n",
       "      <th>3</th>\n",
       "      <td>you@snapplynn Wish that would have been your t...</td>\n",
       "      <td>neutral</td>\n",
       "      <td>positiva</td>\n",
       "      <td>you Wish that would have been your tweet after...</td>\n",
       "      <td>wish would tweet follow</td>\n",
       "    </tr>\n",
       "    <tr>\n",
       "      <th>4</th>\n",
       "      <td>now i am doing the MicroEconomics project  iha...</td>\n",
       "      <td>worry</td>\n",
       "      <td>negativa</td>\n",
       "      <td>now i am doing the MicroEconomics project  iha...</td>\n",
       "      <td>microeconom project ihat subject amp besid eng...</td>\n",
       "    </tr>\n",
       "  </tbody>\n",
       "</table>\n",
       "</div>"
      ],
      "text/plain": [
       "                                             content  sentiment bin_sentiment  \\\n",
       "0                    Happy Mama's day to all mothers       love      positiva   \n",
       "1  @LysdelTellez I am lost. Please help me find a...      worry      negativa   \n",
       "2  @BoomKatt yes yes I AM, networking whore to th...  happiness      positiva   \n",
       "3  you@snapplynn Wish that would have been your t...    neutral      positiva   \n",
       "4  now i am doing the MicroEconomics project  iha...      worry      negativa   \n",
       "\n",
       "                                         new_content  \\\n",
       "0                    Happy Mama's day to all mothers   \n",
       "1        I am lost. Please help me find a good home.   \n",
       "2   yes yes I AM, networking whore to the fullest...   \n",
       "3  you Wish that would have been your tweet after...   \n",
       "4  now i am doing the MicroEconomics project  iha...   \n",
       "\n",
       "                                     content_cleaned  \n",
       "0                              happi mama day mother  \n",
       "1                   i lost pleas help find good home  \n",
       "2     ye ye i am network whore fullest girl rih next  \n",
       "3                            wish would tweet follow  \n",
       "4  microeconom project ihat subject amp besid eng...  "
      ]
     },
     "execution_count": 98,
     "metadata": {},
     "output_type": "execute_result"
    }
   ],
   "source": [
    "df.head()"
   ]
  },
  {
   "cell_type": "code",
   "execution_count": 99,
   "metadata": {},
   "outputs": [],
   "source": [
    "def contar_palabras_por_sentimientos(sentimiento):\n",
    "    from sklearn.feature_extraction.text import CountVectorizer\n",
    "    # instanciamos un objeto\n",
    "    count_vectorizer=CountVectorizer(max_df=.1,max_features=1000)\n",
    "    # Implementamos los pasos fit y transform\n",
    "    if sentimiento == \"todo\":\n",
    "        count_vectorizer_fit = count_vectorizer.fit_transform(df['content_cleaned'])\n",
    "    else:\n",
    "        df_senti=df[df[\"bin_sentiment\"]==sentimiento]\n",
    "        df_content=df_senti[\"content_cleaned\"]\n",
    "        count_vectorizer_fit = count_vectorizer.fit_transform(df_content)\n",
    "    # Extraemos tokens (palabras)\n",
    "    words = count_vectorizer.get_feature_names()\n",
    "        # extraemos frecuencia\n",
    "    words_freq = count_vectorizer_fit.toarray().sum(axis=0)\n",
    "    df2=pd.DataFrame(zip(words,words_freq),columns=[\"words\",\"words_freq\"])\n",
    "    df2=df2.sort_values(by=[\"words_freq\"],ascending=False)\n",
    "    df3=df2.head(15)\n",
    "        #plt.figure(figsize=(8, 6))\n",
    "    plt.title('Palabras mas Frecuentes\\n sentimiento: '+sentimiento)\n",
    "    plt.tight_layout()\n",
    "    return sns.barplot(y=df3['words'],x=df3['words_freq'])"
   ]
  },
  {
   "cell_type": "code",
   "execution_count": 100,
   "metadata": {},
   "outputs": [],
   "source": [
    "def graphs_counter_words(lista):\n",
    "    import matplotlib \n",
    "    font = {'family': 'serif','color':  'darkred','weight': 'normal','size': 35}\n",
    "    plt.figure(figsize=(30,12))\n",
    "    for n, i in enumerate(lista):\n",
    "        plt.subplot(1, 3, n + 1)\n",
    "        ax=contar_palabras_por_sentimientos(i)\n",
    "        plt.title('Frecuencias {}'.format(i),fontdict=font)\n",
    "        plt.tight_layout()\n",
    "        plt.xticks(fontsize=25)\n",
    "        plt.yticks(fontsize=30)\n",
    "        ax.set_xlabel('')\n",
    "        ax.set_ylabel('')"
   ]
  },
  {
   "cell_type": "code",
   "execution_count": 101,
   "metadata": {},
   "outputs": [
    {
     "data": {
      "image/png": "[encoded data removed]",
      "text/plain": [
       "<Figure size 2160x864 with 3 Axes>"
      ]
     },
     "metadata": {
      "needs_background": "light"
     },
     "output_type": "display_data"
    }
   ],
   "source": [
    "graphs_counter_words([\"todo\",\"positiva\",\"negativa\"])"
   ]
  },
  {
   "cell_type": "code",
   "execution_count": 102,
   "metadata": {},
   "outputs": [],
   "source": [
    "#mat_confusion = confusion_matrix(y_test, yhat)\n",
    "#mat_confusion"
   ]
  },
  {
   "cell_type": "code",
   "execution_count": 103,
   "metadata": {},
   "outputs": [],
   "source": [
    "df['token_cleaned']=df['content_cleaned'].apply(lambda x:x.split())"
   ]
  },
  {
   "cell_type": "code",
   "execution_count": 104,
   "metadata": {},
   "outputs": [],
   "source": [
    "def lista_cadena(lista_tmp) :\n",
    "    str_tmp = ''\n",
    "    for i in range(len(lista_tmp)) :\n",
    "        str_tmp += '{} '.format(lista_tmp[i])\n",
    "    return str_tmp.strip()"
   ]
  },
  {
   "cell_type": "code",
   "execution_count": 105,
   "metadata": {},
   "outputs": [],
   "source": [
    "df[\"token_cleaned2\"] = df[\"token_cleaned\"].apply(lista_cadena) "
   ]
  },
  {
   "cell_type": "code",
   "execution_count": 107,
   "metadata": {},
   "outputs": [
    {
     "data": {
      "text/html": [
       "<div>\n",
       "<style scoped>\n",
       "    .dataframe tbody tr th:only-of-type {\n",
       "        vertical-align: middle;\n",
       "    }\n",
       "\n",
       "    .dataframe tbody tr th {\n",
       "        vertical-align: top;\n",
       "    }\n",
       "\n",
       "    .dataframe thead th {\n",
       "        text-align: right;\n",
       "    }\n",
       "</style>\n",
       "<table border=\"1\" class=\"dataframe\">\n",
       "  <thead>\n",
       "    <tr style=\"text-align: right;\">\n",
       "      <th></th>\n",
       "      <th>content</th>\n",
       "      <th>sentiment</th>\n",
       "      <th>bin_sentiment</th>\n",
       "      <th>new_content</th>\n",
       "      <th>content_cleaned</th>\n",
       "      <th>token_cleaned</th>\n",
       "      <th>token_cleaned2</th>\n",
       "    </tr>\n",
       "  </thead>\n",
       "  <tbody>\n",
       "    <tr>\n",
       "      <th>0</th>\n",
       "      <td>Happy Mama's day to all mothers</td>\n",
       "      <td>love</td>\n",
       "      <td>positiva</td>\n",
       "      <td>Happy Mama's day to all mothers</td>\n",
       "      <td>happi mama day mother</td>\n",
       "      <td>[happi, mama, day, mother]</td>\n",
       "      <td>happi mama day mother</td>\n",
       "    </tr>\n",
       "    <tr>\n",
       "      <th>1</th>\n",
       "      <td>@LysdelTellez I am lost. Please help me find a...</td>\n",
       "      <td>worry</td>\n",
       "      <td>negativa</td>\n",
       "      <td>I am lost. Please help me find a good home.</td>\n",
       "      <td>i lost pleas help find good home</td>\n",
       "      <td>[i, lost, pleas, help, find, good, home]</td>\n",
       "      <td>i lost pleas help find good home</td>\n",
       "    </tr>\n",
       "    <tr>\n",
       "      <th>2</th>\n",
       "      <td>@BoomKatt yes yes I AM, networking whore to th...</td>\n",
       "      <td>happiness</td>\n",
       "      <td>positiva</td>\n",
       "      <td>yes yes I AM, networking whore to the fullest...</td>\n",
       "      <td>ye ye i am network whore fullest girl rih next</td>\n",
       "      <td>[ye, ye, i, am, network, whore, fullest, girl,...</td>\n",
       "      <td>ye ye i am network whore fullest girl rih next</td>\n",
       "    </tr>\n",
       "    <tr>\n",
       "      <th>3</th>\n",
       "      <td>you@snapplynn Wish that would have been your t...</td>\n",
       "      <td>neutral</td>\n",
       "      <td>positiva</td>\n",
       "      <td>you Wish that would have been your tweet after...</td>\n",
       "      <td>wish would tweet follow</td>\n",
       "      <td>[wish, would, tweet, follow]</td>\n",
       "      <td>wish would tweet follow</td>\n",
       "    </tr>\n",
       "    <tr>\n",
       "      <th>4</th>\n",
       "      <td>now i am doing the MicroEconomics project  iha...</td>\n",
       "      <td>worry</td>\n",
       "      <td>negativa</td>\n",
       "      <td>now i am doing the MicroEconomics project  iha...</td>\n",
       "      <td>microeconom project ihat subject amp besid eng...</td>\n",
       "      <td>[microeconom, project, ihat, subject, amp, bes...</td>\n",
       "      <td>microeconom project ihat subject amp besid eng...</td>\n",
       "    </tr>\n",
       "  </tbody>\n",
       "</table>\n",
       "</div>"
      ],
      "text/plain": [
       "                                             content  sentiment bin_sentiment  \\\n",
       "0                    Happy Mama's day to all mothers       love      positiva   \n",
       "1  @LysdelTellez I am lost. Please help me find a...      worry      negativa   \n",
       "2  @BoomKatt yes yes I AM, networking whore to th...  happiness      positiva   \n",
       "3  you@snapplynn Wish that would have been your t...    neutral      positiva   \n",
       "4  now i am doing the MicroEconomics project  iha...      worry      negativa   \n",
       "\n",
       "                                         new_content  \\\n",
       "0                    Happy Mama's day to all mothers   \n",
       "1        I am lost. Please help me find a good home.   \n",
       "2   yes yes I AM, networking whore to the fullest...   \n",
       "3  you Wish that would have been your tweet after...   \n",
       "4  now i am doing the MicroEconomics project  iha...   \n",
       "\n",
       "                                     content_cleaned  \\\n",
       "0                              happi mama day mother   \n",
       "1                   i lost pleas help find good home   \n",
       "2     ye ye i am network whore fullest girl rih next   \n",
       "3                            wish would tweet follow   \n",
       "4  microeconom project ihat subject amp besid eng...   \n",
       "\n",
       "                                       token_cleaned  \\\n",
       "0                         [happi, mama, day, mother]   \n",
       "1           [i, lost, pleas, help, find, good, home]   \n",
       "2  [ye, ye, i, am, network, whore, fullest, girl,...   \n",
       "3                       [wish, would, tweet, follow]   \n",
       "4  [microeconom, project, ihat, subject, amp, bes...   \n",
       "\n",
       "                                      token_cleaned2  \n",
       "0                              happi mama day mother  \n",
       "1                   i lost pleas help find good home  \n",
       "2     ye ye i am network whore fullest girl rih next  \n",
       "3                            wish would tweet follow  \n",
       "4  microeconom project ihat subject amp besid eng...  "
      ]
     },
     "execution_count": 107,
     "metadata": {},
     "output_type": "execute_result"
    }
   ],
   "source": [
    "df.head()"
   ]
  },
  {
   "cell_type": "code",
   "execution_count": 108,
   "metadata": {},
   "outputs": [],
   "source": [
    "df['token_cleaned3'] = df['token_cleaned2'].apply(lambda x: ' '.join([w for w in x.split() if len(w)>3]))"
   ]
  },
  {
   "cell_type": "code",
   "execution_count": 109,
   "metadata": {},
   "outputs": [
    {
     "data": {
      "text/html": [
       "<div>\n",
       "<style scoped>\n",
       "    .dataframe tbody tr th:only-of-type {\n",
       "        vertical-align: middle;\n",
       "    }\n",
       "\n",
       "    .dataframe tbody tr th {\n",
       "        vertical-align: top;\n",
       "    }\n",
       "\n",
       "    .dataframe thead th {\n",
       "        text-align: right;\n",
       "    }\n",
       "</style>\n",
       "<table border=\"1\" class=\"dataframe\">\n",
       "  <thead>\n",
       "    <tr style=\"text-align: right;\">\n",
       "      <th></th>\n",
       "      <th>content</th>\n",
       "      <th>sentiment</th>\n",
       "      <th>bin_sentiment</th>\n",
       "      <th>new_content</th>\n",
       "      <th>content_cleaned</th>\n",
       "      <th>token_cleaned</th>\n",
       "      <th>token_cleaned2</th>\n",
       "      <th>token_cleaned3</th>\n",
       "    </tr>\n",
       "  </thead>\n",
       "  <tbody>\n",
       "    <tr>\n",
       "      <th>0</th>\n",
       "      <td>Happy Mama's day to all mothers</td>\n",
       "      <td>love</td>\n",
       "      <td>positiva</td>\n",
       "      <td>Happy Mama's day to all mothers</td>\n",
       "      <td>happi mama day mother</td>\n",
       "      <td>[happi, mama, day, mother]</td>\n",
       "      <td>happi mama day mother</td>\n",
       "      <td>happi mama mother</td>\n",
       "    </tr>\n",
       "    <tr>\n",
       "      <th>1</th>\n",
       "      <td>@LysdelTellez I am lost. Please help me find a...</td>\n",
       "      <td>worry</td>\n",
       "      <td>negativa</td>\n",
       "      <td>I am lost. Please help me find a good home.</td>\n",
       "      <td>i lost pleas help find good home</td>\n",
       "      <td>[i, lost, pleas, help, find, good, home]</td>\n",
       "      <td>i lost pleas help find good home</td>\n",
       "      <td>lost pleas help find good home</td>\n",
       "    </tr>\n",
       "    <tr>\n",
       "      <th>2</th>\n",
       "      <td>@BoomKatt yes yes I AM, networking whore to th...</td>\n",
       "      <td>happiness</td>\n",
       "      <td>positiva</td>\n",
       "      <td>yes yes I AM, networking whore to the fullest...</td>\n",
       "      <td>ye ye i am network whore fullest girl rih next</td>\n",
       "      <td>[ye, ye, i, am, network, whore, fullest, girl,...</td>\n",
       "      <td>ye ye i am network whore fullest girl rih next</td>\n",
       "      <td>network whore fullest girl next</td>\n",
       "    </tr>\n",
       "    <tr>\n",
       "      <th>3</th>\n",
       "      <td>you@snapplynn Wish that would have been your t...</td>\n",
       "      <td>neutral</td>\n",
       "      <td>positiva</td>\n",
       "      <td>you Wish that would have been your tweet after...</td>\n",
       "      <td>wish would tweet follow</td>\n",
       "      <td>[wish, would, tweet, follow]</td>\n",
       "      <td>wish would tweet follow</td>\n",
       "      <td>wish would tweet follow</td>\n",
       "    </tr>\n",
       "    <tr>\n",
       "      <th>4</th>\n",
       "      <td>now i am doing the MicroEconomics project  iha...</td>\n",
       "      <td>worry</td>\n",
       "      <td>negativa</td>\n",
       "      <td>now i am doing the MicroEconomics project  iha...</td>\n",
       "      <td>microeconom project ihat subject amp besid eng...</td>\n",
       "      <td>[microeconom, project, ihat, subject, amp, bes...</td>\n",
       "      <td>microeconom project ihat subject amp besid eng...</td>\n",
       "      <td>microeconom project ihat subject besid english...</td>\n",
       "    </tr>\n",
       "  </tbody>\n",
       "</table>\n",
       "</div>"
      ],
      "text/plain": [
       "                                             content  sentiment bin_sentiment  \\\n",
       "0                    Happy Mama's day to all mothers       love      positiva   \n",
       "1  @LysdelTellez I am lost. Please help me find a...      worry      negativa   \n",
       "2  @BoomKatt yes yes I AM, networking whore to th...  happiness      positiva   \n",
       "3  you@snapplynn Wish that would have been your t...    neutral      positiva   \n",
       "4  now i am doing the MicroEconomics project  iha...      worry      negativa   \n",
       "\n",
       "                                         new_content  \\\n",
       "0                    Happy Mama's day to all mothers   \n",
       "1        I am lost. Please help me find a good home.   \n",
       "2   yes yes I AM, networking whore to the fullest...   \n",
       "3  you Wish that would have been your tweet after...   \n",
       "4  now i am doing the MicroEconomics project  iha...   \n",
       "\n",
       "                                     content_cleaned  \\\n",
       "0                              happi mama day mother   \n",
       "1                   i lost pleas help find good home   \n",
       "2     ye ye i am network whore fullest girl rih next   \n",
       "3                            wish would tweet follow   \n",
       "4  microeconom project ihat subject amp besid eng...   \n",
       "\n",
       "                                       token_cleaned  \\\n",
       "0                         [happi, mama, day, mother]   \n",
       "1           [i, lost, pleas, help, find, good, home]   \n",
       "2  [ye, ye, i, am, network, whore, fullest, girl,...   \n",
       "3                       [wish, would, tweet, follow]   \n",
       "4  [microeconom, project, ihat, subject, amp, bes...   \n",
       "\n",
       "                                      token_cleaned2  \\\n",
       "0                              happi mama day mother   \n",
       "1                   i lost pleas help find good home   \n",
       "2     ye ye i am network whore fullest girl rih next   \n",
       "3                            wish would tweet follow   \n",
       "4  microeconom project ihat subject amp besid eng...   \n",
       "\n",
       "                                      token_cleaned3  \n",
       "0                                  happi mama mother  \n",
       "1                     lost pleas help find good home  \n",
       "2                    network whore fullest girl next  \n",
       "3                            wish would tweet follow  \n",
       "4  microeconom project ihat subject besid english...  "
      ]
     },
     "execution_count": 109,
     "metadata": {},
     "output_type": "execute_result"
    }
   ],
   "source": [
    "df.head()"
   ]
  },
  {
   "cell_type": "code",
   "execution_count": 110,
   "metadata": {},
   "outputs": [],
   "source": [
    "from sklearn.preprocessing import LabelEncoder\n",
    "df['bin_sentiment2'] = LabelEncoder().fit_transform(df['bin_sentiment'])"
   ]
  },
  {
   "cell_type": "code",
   "execution_count": 111,
   "metadata": {},
   "outputs": [
    {
     "data": {
      "text/html": [
       "<div>\n",
       "<style scoped>\n",
       "    .dataframe tbody tr th:only-of-type {\n",
       "        vertical-align: middle;\n",
       "    }\n",
       "\n",
       "    .dataframe tbody tr th {\n",
       "        vertical-align: top;\n",
       "    }\n",
       "\n",
       "    .dataframe thead th {\n",
       "        text-align: right;\n",
       "    }\n",
       "</style>\n",
       "<table border=\"1\" class=\"dataframe\">\n",
       "  <thead>\n",
       "    <tr style=\"text-align: right;\">\n",
       "      <th></th>\n",
       "      <th>content</th>\n",
       "      <th>sentiment</th>\n",
       "      <th>bin_sentiment</th>\n",
       "      <th>new_content</th>\n",
       "      <th>content_cleaned</th>\n",
       "      <th>token_cleaned</th>\n",
       "      <th>token_cleaned2</th>\n",
       "      <th>token_cleaned3</th>\n",
       "      <th>bin_sentiment2</th>\n",
       "    </tr>\n",
       "  </thead>\n",
       "  <tbody>\n",
       "    <tr>\n",
       "      <th>0</th>\n",
       "      <td>Happy Mama's day to all mothers</td>\n",
       "      <td>love</td>\n",
       "      <td>positiva</td>\n",
       "      <td>Happy Mama's day to all mothers</td>\n",
       "      <td>happi mama day mother</td>\n",
       "      <td>[happi, mama, day, mother]</td>\n",
       "      <td>happi mama day mother</td>\n",
       "      <td>happi mama mother</td>\n",
       "      <td>1</td>\n",
       "    </tr>\n",
       "    <tr>\n",
       "      <th>1</th>\n",
       "      <td>@LysdelTellez I am lost. Please help me find a...</td>\n",
       "      <td>worry</td>\n",
       "      <td>negativa</td>\n",
       "      <td>I am lost. Please help me find a good home.</td>\n",
       "      <td>i lost pleas help find good home</td>\n",
       "      <td>[i, lost, pleas, help, find, good, home]</td>\n",
       "      <td>i lost pleas help find good home</td>\n",
       "      <td>lost pleas help find good home</td>\n",
       "      <td>0</td>\n",
       "    </tr>\n",
       "    <tr>\n",
       "      <th>2</th>\n",
       "      <td>@BoomKatt yes yes I AM, networking whore to th...</td>\n",
       "      <td>happiness</td>\n",
       "      <td>positiva</td>\n",
       "      <td>yes yes I AM, networking whore to the fullest...</td>\n",
       "      <td>ye ye i am network whore fullest girl rih next</td>\n",
       "      <td>[ye, ye, i, am, network, whore, fullest, girl,...</td>\n",
       "      <td>ye ye i am network whore fullest girl rih next</td>\n",
       "      <td>network whore fullest girl next</td>\n",
       "      <td>1</td>\n",
       "    </tr>\n",
       "    <tr>\n",
       "      <th>3</th>\n",
       "      <td>you@snapplynn Wish that would have been your t...</td>\n",
       "      <td>neutral</td>\n",
       "      <td>positiva</td>\n",
       "      <td>you Wish that would have been your tweet after...</td>\n",
       "      <td>wish would tweet follow</td>\n",
       "      <td>[wish, would, tweet, follow]</td>\n",
       "      <td>wish would tweet follow</td>\n",
       "      <td>wish would tweet follow</td>\n",
       "      <td>1</td>\n",
       "    </tr>\n",
       "    <tr>\n",
       "      <th>4</th>\n",
       "      <td>now i am doing the MicroEconomics project  iha...</td>\n",
       "      <td>worry</td>\n",
       "      <td>negativa</td>\n",
       "      <td>now i am doing the MicroEconomics project  iha...</td>\n",
       "      <td>microeconom project ihat subject amp besid eng...</td>\n",
       "      <td>[microeconom, project, ihat, subject, amp, bes...</td>\n",
       "      <td>microeconom project ihat subject amp besid eng...</td>\n",
       "      <td>microeconom project ihat subject besid english...</td>\n",
       "      <td>0</td>\n",
       "    </tr>\n",
       "  </tbody>\n",
       "</table>\n",
       "</div>"
      ],
      "text/plain": [
       "                                             content  sentiment bin_sentiment  \\\n",
       "0                    Happy Mama's day to all mothers       love      positiva   \n",
       "1  @LysdelTellez I am lost. Please help me find a...      worry      negativa   \n",
       "2  @BoomKatt yes yes I AM, networking whore to th...  happiness      positiva   \n",
       "3  you@snapplynn Wish that would have been your t...    neutral      positiva   \n",
       "4  now i am doing the MicroEconomics project  iha...      worry      negativa   \n",
       "\n",
       "                                         new_content  \\\n",
       "0                    Happy Mama's day to all mothers   \n",
       "1        I am lost. Please help me find a good home.   \n",
       "2   yes yes I AM, networking whore to the fullest...   \n",
       "3  you Wish that would have been your tweet after...   \n",
       "4  now i am doing the MicroEconomics project  iha...   \n",
       "\n",
       "                                     content_cleaned  \\\n",
       "0                              happi mama day mother   \n",
       "1                   i lost pleas help find good home   \n",
       "2     ye ye i am network whore fullest girl rih next   \n",
       "3                            wish would tweet follow   \n",
       "4  microeconom project ihat subject amp besid eng...   \n",
       "\n",
       "                                       token_cleaned  \\\n",
       "0                         [happi, mama, day, mother]   \n",
       "1           [i, lost, pleas, help, find, good, home]   \n",
       "2  [ye, ye, i, am, network, whore, fullest, girl,...   \n",
       "3                       [wish, would, tweet, follow]   \n",
       "4  [microeconom, project, ihat, subject, amp, bes...   \n",
       "\n",
       "                                      token_cleaned2  \\\n",
       "0                              happi mama day mother   \n",
       "1                   i lost pleas help find good home   \n",
       "2     ye ye i am network whore fullest girl rih next   \n",
       "3                            wish would tweet follow   \n",
       "4  microeconom project ihat subject amp besid eng...   \n",
       "\n",
       "                                      token_cleaned3  bin_sentiment2  \n",
       "0                                  happi mama mother               1  \n",
       "1                     lost pleas help find good home               0  \n",
       "2                    network whore fullest girl next               1  \n",
       "3                            wish would tweet follow               1  \n",
       "4  microeconom project ihat subject besid english...               0  "
      ]
     },
     "execution_count": 111,
     "metadata": {},
     "output_type": "execute_result"
    }
   ],
   "source": [
    "df.head()"
   ]
  },
  {
   "cell_type": "code",
   "execution_count": 112,
   "metadata": {},
   "outputs": [],
   "source": [
    "from sklearn.feature_extraction.text import CountVectorizer\n",
    "vectorizer = CountVectorizer(max_features=1500, min_df=5, max_df=0.7, stop_words=stopwords.words('english'))\n",
    "X = vectorizer.fit_transform(df['token_cleaned3']).toarray()"
   ]
  },
  {
   "cell_type": "code",
   "execution_count": 113,
   "metadata": {},
   "outputs": [],
   "source": [
    "from sklearn.feature_extraction.text import TfidfTransformer\n",
    "tfidfconverter = TfidfTransformer()\n",
    "X = tfidfconverter.fit_transform(X).toarray()"
   ]
  },
  {
   "cell_type": "code",
   "execution_count": 114,
   "metadata": {},
   "outputs": [],
   "source": [
    "df2=df.copy()\n",
    "y_vec=df2['bin_sentiment2']\n",
    "X_train,X_test,y_train,y_test=train_test_split(X,y_vec,test_size=0.33,random_state=1)"
   ]
  },
  {
   "cell_type": "code",
   "execution_count": 115,
   "metadata": {},
   "outputs": [],
   "source": [
    "classifier = RandomForestClassifier(n_estimators=100, random_state=0,n_jobs=-1)\n",
    "classifier.fit(X_train, y_train)\n",
    "y_pred = classifier.predict(X_test)"
   ]
  },
  {
   "cell_type": "code",
   "execution_count": 116,
   "metadata": {},
   "outputs": [],
   "source": [
    "from sklearn.metrics import classification_report, accuracy_score"
   ]
  },
  {
   "cell_type": "code",
   "execution_count": 117,
   "metadata": {},
   "outputs": [
    {
     "name": "stdout",
     "output_type": "stream",
     "text": [
      "              precision    recall  f1-score   support\n",
      "\n",
      "           0       0.65      0.68      0.67      5061\n",
      "           1       0.65      0.62      0.63      4839\n",
      "\n",
      "   micro avg       0.65      0.65      0.65      9900\n",
      "   macro avg       0.65      0.65      0.65      9900\n",
      "weighted avg       0.65      0.65      0.65      9900\n",
      "\n"
     ]
    }
   ],
   "source": [
    "print(classification_report(y_test, y_pred))"
   ]
  },
  {
   "cell_type": "code",
   "execution_count": null,
   "metadata": {},
   "outputs": [],
   "source": []
  }
 ],
 "metadata": {
  "kernelspec": {
   "display_name": "Python 3",
   "language": "python",
   "name": "python3"
  },
  "language_info": {
   "codemirror_mode": {
    "name": "ipython",
    "version": 3
   },
   "file_extension": ".py",
   "mimetype": "text/x-python",
   "name": "python",
   "nbconvert_exporter": "python",
   "pygments_lexer": "ipython3",
   "version": "3.7.3"
  }
 },
 "nbformat": 4,
 "nbformat_minor": 2
}
