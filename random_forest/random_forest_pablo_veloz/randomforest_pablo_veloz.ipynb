{
 "cells": [
  {
   "cell_type": "markdown",
   "metadata": {},
   "source": [
    "### Autor: Pablo Veloz M\n",
    "## Desafío - Random Forest"
   ]
  },
  {
   "cell_type": "markdown",
   "metadata": {},
   "source": [
    "__Descripción__\n",
    "- Para esta sesión trabajaremos con una base de datos sobre los precios de inmuebles en la ciudad de Ames, Iowa. La base se compone de 2930 registros y contiene un gran número de atributos.\n",
    "- Nuestro objetivo es generar un modelo que prediga de forma adecuada los precios de inmuebles, medidos con la variable Sale_Price .\n",
    "- A diferencia de otras sesiones donde implementábamos el preprocesamiento a mano, ahora haremos uso de los archivos serializados en la sesión pasada."
   ]
  },
  {
   "cell_type": "markdown",
   "metadata": {},
   "source": [
    "__Ejercicio 1: Preparación del ambiente de trabajo__\n",
    "- Importe las librerías clásicas a utilizar.\n",
    "- Para este ejercicio Random Forest de Regresión De manera adicional importe las funciones y clases necesarias para generar un desempeño de métricas en problemas de regresión.\n",
    "- Elimine la columna 'Unnamed: 0' cuando cargue los datos."
   ]
  },
  {
   "cell_type": "code",
   "execution_count": 1,
   "metadata": {},
   "outputs": [],
   "source": [
    "import aux_funciones as auxiliares\n",
    "import pandas as pd\n",
    "import numpy as np\n",
    "import matplotlib.pyplot as plt\n",
    "from matplotlib.gridspec import GridSpec\n",
    "import seaborn as sns\n",
    "import warnings\n",
    "from sklearn.tree import DecisionTreeRegressor\n",
    "from sklearn.model_selection import GridSearchCV, train_test_split, cross_val_score\n",
    "from sklearn.preprocessing import StandardScaler\n",
    "from sklearn.metrics import  mean_squared_error, median_absolute_error, r2_score\n",
    "from sklearn.ensemble import BaggingRegressor\n",
    "from sklearn.ensemble import RandomForestRegressor\n",
    "import pickle\n",
    "from joblib import load"
   ]
  },
  {
   "cell_type": "markdown",
   "metadata": {},
   "source": [
    "__Ejercicio 2: Importación de archivos serializados__\n",
    "- Importe su modelo entrenado y sus conjuntos de entrenamiento y validación serializados la sesión pasada y evalúe el desempeño del modelo de su compañero con el suyo ¿Cuál es mejor? Si no puede ejecutar el modelo, comente cuáles pueden ser los causantes.\n",
    "- No es necesario que realice diagnósticos gráficos sobre el modelo, sólo reporte sus métricas. \n",
    "- Para importar un archivo serializado, puede ocupar la siguiente línea de código:"
   ]
  },
  {
   "cell_type": "code",
   "execution_count": 2,
   "metadata": {},
   "outputs": [],
   "source": [
    "from sklearn.externals import joblib \n",
    "pablo_model = joblib.load('./pvelozmrandomforest/pablo-veloz-actividad07.sav')  "
   ]
  },
  {
   "cell_type": "code",
   "execution_count": 3,
   "metadata": {},
   "outputs": [],
   "source": [
    "X_test_pablo = pd.read_csv('./pvelozmrandomforest/X_test')\n",
    "X_train_pablo = pd.read_csv('./pvelozmrandomforest/X_train')\n",
    "y_train_pablo = pd.read_csv('./pvelozmrandomforest/y_train',names=[\"Sale_Prices\"])\n",
    "y_test_pablo = pd.read_csv('./pvelozmrandomforest/y_test',names=[\"Sale_Prices\"])"
   ]
  },
  {
   "cell_type": "code",
   "execution_count": 4,
   "metadata": {},
   "outputs": [],
   "source": [
    "y_hat = pablo_model.predict(X_test_pablo)"
   ]
  },
  {
   "cell_type": "code",
   "execution_count": 5,
   "metadata": {},
   "outputs": [
    {
     "name": "stdout",
     "output_type": "stream",
     "text": [
      "Test MSE:  0.047456449955142484\n",
      "Test MAE:  0.09892680710307289\n",
      "Test R2:  0.7202880863993226\n"
     ]
    }
   ],
   "source": [
    "print(\"Test MSE: \", mean_squared_error(y_test_pablo, y_hat))\n",
    "print(\"Test MAE: \", median_absolute_error(y_test_pablo, y_hat))\n",
    "print(\"Test R2: \", r2_score(y_test_pablo, y_hat))"
   ]
  },
  {
   "cell_type": "code",
   "execution_count": 6,
   "metadata": {},
   "outputs": [],
   "source": [
    "tania_model = joblib.load('./pvelozmrandomforest/Tania-Estay-ArbolesRegresion') \n",
    "X_test_tania = pd.read_csv('./pvelozmrandomforest/X_test_Tania')\n",
    "X_train_tania = pd.read_csv('./pvelozmrandomforest/X_train_Tania')\n",
    "y_train_tania= pd.read_csv('./pvelozmrandomforest/Y_train_Tania',names=[\"Sale_Prices\"])\n",
    "y_test_tania= pd.read_csv('./pvelozmrandomforest/Y_test_Tania',names=[\"Sale_Prices\"])\n",
    "y_hat_tania = tania_model.predict(X_test_tania)"
   ]
  },
  {
   "cell_type": "code",
   "execution_count": 7,
   "metadata": {},
   "outputs": [
    {
     "name": "stdout",
     "output_type": "stream",
     "text": [
      "Test MSE:  0.3162850638404494\n",
      "Test MAE:  0.35013948472413503\n",
      "Test R2:  0.7819930856812691\n"
     ]
    }
   ],
   "source": [
    "print(\"Test MSE: \", mean_squared_error(y_test_tania, y_hat))\n",
    "print(\"Test MAE: \", median_absolute_error(y_test_tania, y_hat))\n",
    "print(\"Test R2: \", r2_score(y_test_tania, y_hat_tania))"
   ]
  },
  {
   "cell_type": "code",
   "execution_count": 8,
   "metadata": {},
   "outputs": [
    {
     "data": {
      "text/html": [
       "<div>\n",
       "<style scoped>\n",
       "    .dataframe tbody tr th:only-of-type {\n",
       "        vertical-align: middle;\n",
       "    }\n",
       "\n",
       "    .dataframe tbody tr th {\n",
       "        vertical-align: top;\n",
       "    }\n",
       "\n",
       "    .dataframe thead th {\n",
       "        text-align: right;\n",
       "    }\n",
       "</style>\n",
       "<table border=\"1\" class=\"dataframe\">\n",
       "  <thead>\n",
       "    <tr style=\"text-align: right;\">\n",
       "      <th></th>\n",
       "      <th>metricas</th>\n",
       "      <th>Modelo Pablo</th>\n",
       "      <th>modelo Tania</th>\n",
       "      <th>modelo3</th>\n",
       "    </tr>\n",
       "  </thead>\n",
       "  <tbody>\n",
       "    <tr>\n",
       "      <th>0</th>\n",
       "      <td>MSE</td>\n",
       "      <td>0.04745</td>\n",
       "      <td>0.31620</td>\n",
       "      <td>0</td>\n",
       "    </tr>\n",
       "    <tr>\n",
       "      <th>1</th>\n",
       "      <td>MAE</td>\n",
       "      <td>0.09892</td>\n",
       "      <td>0.35013</td>\n",
       "      <td>0</td>\n",
       "    </tr>\n",
       "    <tr>\n",
       "      <th>2</th>\n",
       "      <td>R2</td>\n",
       "      <td>0.72028</td>\n",
       "      <td>0.78199</td>\n",
       "      <td>0</td>\n",
       "    </tr>\n",
       "  </tbody>\n",
       "</table>\n",
       "</div>"
      ],
      "text/plain": [
       "  metricas  Modelo Pablo  modelo Tania  modelo3\n",
       "0      MSE       0.04745       0.31620        0\n",
       "1      MAE       0.09892       0.35013        0\n",
       "2       R2       0.72028       0.78199        0"
      ]
     },
     "execution_count": 8,
     "metadata": {},
     "output_type": "execute_result"
    }
   ],
   "source": [
    "metricas=['MSE','MAE','R2'] \n",
    "modelo_Pablo=[0.04745,0.09892,0.72028]\n",
    "modelo_Tania=[0.3162,0.35013,0.78199]\n",
    "modelo3=[0,0,0]\n",
    "listado = list(zip(metricas,modelo_Pablo,modelo_Tania,modelo3))\n",
    "pd.DataFrame(listado, columns = ['metricas','Modelo Pablo','modelo Tania','modelo3'])"
   ]
  },
  {
   "cell_type": "markdown",
   "metadata": {},
   "source": [
    "__Ejercicio 3: Evaluación Random Forest__\n",
    "- En base a los conjuntos de entrenamiento serializados, genere un modelo utilizando sklearn.ensemble.RandomForest sin modificar hiperparámetros, sólo declarando la semilla pseudoaleatoria.\n",
    "- Reporte su desempeño y compárelo con su modelo de la sesión pasada, así como con el de su compañero."
   ]
  },
  {
   "cell_type": "code",
   "execution_count": 9,
   "metadata": {},
   "outputs": [
    {
     "name": "stdout",
     "output_type": "stream",
     "text": [
      "MSE: 0.03545\n",
      "MAE: 0.08752\n",
      "R2: 0.79108\n"
     ]
    }
   ],
   "source": [
    "rf_pablo= RandomForestRegressor(random_state = 1).fit(X_train_pablo, y_train_pablo)\n",
    "y_hat_pablo = rf_pablo.predict(X_test_pablo)\n",
    "print(\"MSE:\", mean_squared_error(y_test_pablo, y_hat_pablo).round(5))\n",
    "print(\"MAE:\", median_absolute_error(y_test_pablo, y_hat_pablo).round(5))\n",
    "print(\"R2:\", r2_score(y_test_pablo, y_hat_pablo).round(5))"
   ]
  },
  {
   "cell_type": "code",
   "execution_count": null,
   "metadata": {},
   "outputs": [],
   "source": []
  },
  {
   "cell_type": "code",
   "execution_count": 10,
   "metadata": {},
   "outputs": [
    {
     "name": "stdout",
     "output_type": "stream",
     "text": [
      "MSE: 0.02704\n",
      "MAE: 0.08195\n",
      "R2: 0.83471\n"
     ]
    }
   ],
   "source": [
    "rf_tania= RandomForestRegressor(random_state = 1).fit(X_train_tania,y_train_tania)\n",
    "y_hat_tania = rf_tania.predict(X_test_tania)\n",
    "print(\"MSE:\", mean_squared_error(y_test_tania, y_hat_tania).round(5))\n",
    "print(\"MAE:\", median_absolute_error(y_test_tania, y_hat_tania).round(5))\n",
    "print(\"R2:\", r2_score(y_test_tania, y_hat_tania).round(5))"
   ]
  },
  {
   "cell_type": "code",
   "execution_count": 11,
   "metadata": {},
   "outputs": [
    {
     "data": {
      "text/html": [
       "<div>\n",
       "<style scoped>\n",
       "    .dataframe tbody tr th:only-of-type {\n",
       "        vertical-align: middle;\n",
       "    }\n",
       "\n",
       "    .dataframe tbody tr th {\n",
       "        vertical-align: top;\n",
       "    }\n",
       "\n",
       "    .dataframe thead th {\n",
       "        text-align: right;\n",
       "    }\n",
       "</style>\n",
       "<table border=\"1\" class=\"dataframe\">\n",
       "  <thead>\n",
       "    <tr style=\"text-align: right;\">\n",
       "      <th></th>\n",
       "      <th>metricas</th>\n",
       "      <th>Modelo Pablo</th>\n",
       "      <th>modelo Tania</th>\n",
       "    </tr>\n",
       "  </thead>\n",
       "  <tbody>\n",
       "    <tr>\n",
       "      <th>0</th>\n",
       "      <td>MSE</td>\n",
       "      <td>0.03545</td>\n",
       "      <td>0.02704</td>\n",
       "    </tr>\n",
       "    <tr>\n",
       "      <th>1</th>\n",
       "      <td>MAE</td>\n",
       "      <td>0.08752</td>\n",
       "      <td>0.08195</td>\n",
       "    </tr>\n",
       "    <tr>\n",
       "      <th>2</th>\n",
       "      <td>R2</td>\n",
       "      <td>0.79108</td>\n",
       "      <td>0.83471</td>\n",
       "    </tr>\n",
       "  </tbody>\n",
       "</table>\n",
       "</div>"
      ],
      "text/plain": [
       "  metricas  Modelo Pablo  modelo Tania\n",
       "0      MSE       0.03545       0.02704\n",
       "1      MAE       0.08752       0.08195\n",
       "2       R2       0.79108       0.83471"
      ]
     },
     "execution_count": 11,
     "metadata": {},
     "output_type": "execute_result"
    }
   ],
   "source": [
    "metricas=['MSE','MAE','R2'] \n",
    "modelo_Pablo=[0.03545,0.08752,0.79108]\n",
    "modelo_Tania=[0.02704,0.08195,0.83471]\n",
    "listado = list(zip(metricas,modelo_Pablo,modelo_Tania))\n",
    "pd.DataFrame(listado, columns = ['metricas','Modelo Pablo','modelo Tania'])"
   ]
  },
  {
   "cell_type": "markdown",
   "metadata": {},
   "source": [
    "__Ejercicio 4: Reporte las métricas de desempeño__\n",
    "- Para afinar el comportamiento de nuestro modelo, evalúe su desempeño los siguientes hiperparámetros:\n",
    "    - max_features : None , log2 , sqrt .\n",
    "    - n_estimators : Evaluar entre 20 y 1000 en pasos de 50.\n",
    "- Guarde la tasa de error en la exactitud medida con OOB.\n",
    "- Grafique el comportamiento."
   ]
  },
  {
   "cell_type": "code",
   "execution_count": 12,
   "metadata": {},
   "outputs": [],
   "source": [
    "lista_none=[]\n",
    "lista_log2=[]\n",
    "lista_sqrt=[]\n",
    "for i in range(20,1000,50):\n",
    "    rf_pablo1= RandomForestRegressor(max_features=None,n_estimators=i,oob_score=True,random_state = 1).fit(X_train_pablo, y_train_pablo)\n",
    "    rf_pablo2= RandomForestRegressor(max_features='log2',n_estimators=i,oob_score=True,random_state = 1).fit(X_train_pablo, y_train_pablo)\n",
    "    rf_pablo3= RandomForestRegressor(max_features='sqrt',n_estimators=i,oob_score=True,random_state = 1).fit(X_train_pablo, y_train_pablo)\n",
    "    lista_none.append(1-rf_pablo1.oob_score_)\n",
    "    lista_log2.append(1-rf_pablo2.oob_score_)\n",
    "    lista_sqrt.append(1-rf_pablo3.oob_score_)"
   ]
  },
  {
   "cell_type": "code",
   "execution_count": 13,
   "metadata": {},
   "outputs": [
    {
     "data": {
      "text/plain": [
       "<Figure size 864x288 with 0 Axes>"
      ]
     },
     "metadata": {},
     "output_type": "display_data"
    },
    {
     "data": {
      "image/png": "[encoded data removed]",
      "text/plain": [
       "<Figure size 432x288 with 3 Axes>"
      ]
     },
     "metadata": {
      "needs_background": "light"
     },
     "output_type": "display_data"
    }
   ],
   "source": [
    "plt.figure(figsize=(12, 4));\n",
    "fig, axs = plt.subplots(1, 3, sharex=True, sharey=True);\n",
    "axs[0].plot(lista_log2, '.-', label='OOB error rate');\n",
    "axs[0].set_title('Log2');\n",
    "axs[1].plot(lista_sqrt,'.-',label='OOB error rate');\n",
    "axs[1].set_title('Squared Root');\n",
    "axs[2].plot(lista_none, '.-', label='OOB error rate');\n",
    "axs[2].set_title('None');\n",
    "plt.tight_layout();\n",
    "plt.legend();"
   ]
  },
  {
   "cell_type": "markdown",
   "metadata": {},
   "source": [
    "__max_feature `log2` y `sqrt` generan los mismos oob_score___"
   ]
  },
  {
   "cell_type": "markdown",
   "metadata": {},
   "source": [
    "__Ejercicio 5: Refactorice el modelo__\n",
    "- En base a la mejor combinación de hiperparámetros, reentrene el modelo y comente su desempeño."
   ]
  },
  {
   "cell_type": "markdown",
   "metadata": {},
   "source": [
    "- __La siguiente función determina el n_estimator con el menor oob_score__"
   ]
  },
  {
   "cell_type": "code",
   "execution_count": null,
   "metadata": {},
   "outputs": [],
   "source": [
    "def minimo(lista1,lista2,lista3):\n",
    "    min1=np.minimum((lista1),(lista2))\n",
    "    min2=np.minimum(min1,lista3)\n",
    "    minimo=min(min2)\n",
    "    indice=lista2.index(minimo)\n",
    "    cont=0\n",
    "    for i in range(20,1000,50):\n",
    "        cont+=1\n",
    "        if cont==indice:\n",
    "            print(\"n_estimators: \",i)\n",
    "            break;\n",
    "    return i"
   ]
  },
  {
   "cell_type": "markdown",
   "metadata": {},
   "source": [
    "__Comenzando, con determinar el minimo oob_score___\n"
   ]
  },
  {
   "cell_type": "code",
   "execution_count": 15,
   "metadata": {},
   "outputs": [
    {
     "name": "stdout",
     "output_type": "stream",
     "text": [
      "n_estimators:  670\n"
     ]
    }
   ],
   "source": [
    "n_estimator_minimo=minimo(lista_none,lista_log2,lista_sqrt)"
   ]
  },
  {
   "cell_type": "markdown",
   "metadata": {},
   "source": [
    "__Se halla en el n_estimators:670__"
   ]
  },
  {
   "cell_type": "code",
   "execution_count": 20,
   "metadata": {},
   "outputs": [],
   "source": [
    "mejor_rf=RandomForestRegressor(max_features='log2',n_estimators=670,oob_score=True,random_state = 1).fit(X_train_pablo, y_train_pablo)"
   ]
  },
  {
   "cell_type": "code",
   "execution_count": 55,
   "metadata": {
    "scrolled": true
   },
   "outputs": [
    {
     "name": "stdout",
     "output_type": "stream",
     "text": [
      "El mejor randomForest score entregado por este modelo sería:  0.81037\n"
     ]
    }
   ],
   "source": [
    "print(\"El mejor randomForest score entregado por este modelo sería: \",(mejor_rf.score(X_test_pablo,y_test_pablo).round(5)))"
   ]
  },
  {
   "cell_type": "markdown",
   "metadata": {},
   "source": [
    "__Inspeccionando nuevamente los modelos RandomForestRegressor__"
   ]
  },
  {
   "cell_type": "code",
   "execution_count": 28,
   "metadata": {},
   "outputs": [],
   "source": [
    "rf_pablo1= RandomForestRegressor(max_features=None,n_estimators=i,oob_score=True,random_state = 1)\n",
    "error_rate = {}\n",
    "for i in range(20,1000,50):\n",
    "    rf_pablo1.set_params(n_estimators=i)\n",
    "    rf_pablo1.fit(X_train_pablo, y_train_pablo)\n",
    "    oob_error = 1 - rf_pablo1.oob_score_\n",
    "    error_rate[i] = oob_error"
   ]
  },
  {
   "cell_type": "code",
   "execution_count": 29,
   "metadata": {},
   "outputs": [],
   "source": [
    "rf_pablo2= RandomForestRegressor(max_features='log2',n_estimators=i,oob_score=True,random_state = 1)\n",
    "error_rate2 = {}\n",
    "for i in range(20,1000,50):\n",
    "    rf_pablo2.set_params(n_estimators=i)\n",
    "    rf_pablo2.fit(X_train_pablo, y_train_pablo)\n",
    "    oob_error = 1 - rf_pablo2.oob_score_\n",
    "    error_rate2[i] = oob_error"
   ]
  },
  {
   "cell_type": "code",
   "execution_count": 61,
   "metadata": {},
   "outputs": [
    {
     "name": "stdout",
     "output_type": "stream",
     "text": [
      "None: 0.15928593157606208\n",
      "log2: 0.15695998958600743\n"
     ]
    }
   ],
   "source": [
    "oob_series = pd.Series(error_rate)\n",
    "oob_series2 = pd.Series(error_rate2)\n",
    "print('None:',min(oob_series))\n",
    "print('log2:',min(oob_series2))"
   ]
  },
  {
   "cell_type": "markdown",
   "metadata": {},
   "source": [
    "-__El modelo log2 entrega un oob_score menor__"
   ]
  },
  {
   "cell_type": "code",
   "execution_count": 64,
   "metadata": {
    "scrolled": true
   },
   "outputs": [
    {
     "name": "stdout",
     "output_type": "stream",
     "text": [
      "Los hyperparámetros encontrado para n_stimator es:\n",
      " n_estimator: 720\n"
     ]
    }
   ],
   "source": [
    "menor=min(error_rate2.values())\n",
    "for key in error_rate2:\n",
    "    if error_rate2[key].round(5)==menor.round(5):\n",
    "        n_stimator=key\n",
    "        #print(key, \":\", error_rate2[key])\n",
    "\n",
    "print(\"Los hyperparámetros encontrado para n_stimator es:\\n\",\"n_estimator:\",n_stimator)\n"
   ]
  },
  {
   "cell_type": "code",
   "execution_count": 123,
   "metadata": {},
   "outputs": [
    {
     "name": "stdout",
     "output_type": "stream",
     "text": [
      "El mejor randomForest score entregado por este modelo sería:  0.81054\n"
     ]
    }
   ],
   "source": [
    "rf_pablo1= RandomForestRegressor(max_features='log2',n_estimators=720,oob_score=True,random_state = 1).fit(X_train_pablo, y_train_pablo)\n",
    "print(\"El mejor randomForest score entregado por este modelo sería: \",(rf_pablo1.score(X_test_pablo,y_test_pablo).round(5)))"
   ]
  },
  {
   "cell_type": "code",
   "execution_count": 49,
   "metadata": {
    "scrolled": false
   },
   "outputs": [
    {
     "data": {
      "text/plain": [
       "<matplotlib.legend.Legend at 0x7eff15e22780>"
      ]
     },
     "execution_count": 49,
     "metadata": {},
     "output_type": "execute_result"
    },
    {
     "data": {
      "image/png": "[encoded data removed]",
      "text/plain": [
       "<Figure size 432x432 with 1 Axes>"
      ]
     },
     "metadata": {
      "needs_background": "light"
     },
     "output_type": "display_data"
    }
   ],
   "source": [
    "# Convert dictionary to a pandas series for easy plotting\n",
    "oob_series = pd.Series(error_rate)\n",
    "oob_series2 = pd.Series(error_rate2)\n",
    "#oob_series3 = pd.Series(error_rate3)\n",
    "fig, ax = plt.subplots(figsize=(6, 6))\n",
    "oob_series.plot(kind='line',color = 'red',label=\"None\")\n",
    "oob_series2.plot(kind='line',color = 'blue',label=\"log2\")\n",
    "#oob_series3.plot(kind='line',color = 'green',label=\"sqrt\")\n",
    "#plt.axhline(0.192,color='#875FDB',linestyle='--')\n",
    "plt.axhline(menor,color='#875FDB',linestyle='--')\n",
    "plt.axvline(720,color='#875FDB',linestyle='--')\n",
    "plt.xlabel('n_estimators')\n",
    "plt.ylabel('OOB Error Rate')\n",
    "plt.title('OOB Error Rate Across various Forest sizes \\n(From 20 to 1000 trees)')\n",
    "plt.legend(framealpha=1, frameon=True)"
   ]
  },
  {
   "cell_type": "markdown",
   "metadata": {},
   "source": [
    "- De esta forma podemos señalar que hay una diferencia entre el modelo realizado con n_stimator n=670 y n=720"
   ]
  },
  {
   "cell_type": "markdown",
   "metadata": {},
   "source": [
    "__Evaluando Scores de diferentes modelos randomForestRegression realizados__"
   ]
  },
  {
   "cell_type": "code",
   "execution_count": 27,
   "metadata": {},
   "outputs": [],
   "source": [
    "estimators = np.arange(20, 1000, 50)\n",
    "scores_log = []\n",
    "scores_none = []\n",
    "model_log= RandomForestRegressor(max_features='log2',random_state = 1)\n",
    "model_none= RandomForestRegressor(max_features=None,random_state = 1)\n",
    "for n in estimators:\n",
    "    model_log.set_params(n_estimators=n)\n",
    "    model_log.fit(X_train_pablo, y_train_pablo)\n",
    "    scores_log.append(model_log.score(X_test_pablo, y_test_pablo))\n",
    "    model_none.set_params(n_estimators=n)\n",
    "    model_none.fit(X_train_pablo, y_train_pablo)\n",
    "    scores_none.append(model_none.score(X_test_pablo, y_test_pablo))"
   ]
  },
  {
   "cell_type": "code",
   "execution_count": 117,
   "metadata": {},
   "outputs": [
    {
     "name": "stdout",
     "output_type": "stream",
     "text": [
      "El mayor score es en con el n_estimators es de: 270\n"
     ]
    }
   ],
   "source": [
    "mayor=max(scores_log)\n",
    "listado=list(zip(estimators,scores_log))\n",
    "lista_n=[]\n",
    "for i in listado:\n",
    "    if i[1]==mayor:\n",
    "        mayor_n=i[0]\n",
    "print(\"El mayor score es en con el n_estimators es de:\",mayor_n)"
   ]
  },
  {
   "cell_type": "markdown",
   "metadata": {},
   "source": [
    "__Graficando los score para los modelos realizados y destando el max(score) en la grafica, se tiene:__"
   ]
  },
  {
   "cell_type": "code",
   "execution_count": 121,
   "metadata": {
    "scrolled": false
   },
   "outputs": [
    {
     "name": "stderr",
     "output_type": "stream",
     "text": [
      "No handles with labels found to put in legend.\n"
     ]
    },
    {
     "data": {
      "text/plain": [
       "[<matplotlib.lines.Line2D at 0x7eff137a8a90>]"
      ]
     },
     "execution_count": 121,
     "metadata": {},
     "output_type": "execute_result"
    },
    {
     "data": {
      "image/png": "[encoded data removed]",
      "text/plain": [
       "<Figure size 432x432 with 1 Axes>"
      ]
     },
     "metadata": {
      "needs_background": "light"
     },
     "output_type": "display_data"
    }
   ],
   "source": [
    "fig, ax = plt.subplots(figsize=(6, 6))\n",
    "#oob_series3.plot(kind='line',color = 'green',label=\"sqrt\")\n",
    "#plt.axhline(0.192,color='#875FDB',linestyle='--')\n",
    "plt.axhline(mayor,color='#875FDB',linestyle='--')\n",
    "plt.axvline(270,color='#875FDB',linestyle='--')\n",
    "plt.xlabel('n_estimators')\n",
    "plt.ylabel('OOB Error Rate')\n",
    "plt.title('Score n_estimators\\n(From 20 to 1000 trees)')\n",
    "plt.legend(framealpha=1, frameon=True)\n",
    "plt.plot(estimators, scores_log)\n",
    "plt.plot(estimators, scores_none)"
   ]
  },
  {
   "cell_type": "code",
   "execution_count": 118,
   "metadata": {},
   "outputs": [
    {
     "name": "stdout",
     "output_type": "stream",
     "text": [
      "El mejor randomForest score entregado por este modelo sería:  0.81107\n"
     ]
    }
   ],
   "source": [
    "rf_pablo1= RandomForestRegressor(max_features='log2',n_estimators=270,oob_score=True,random_state = 1).fit(X_train_pablo, y_train_pablo)\n",
    "print(\"El mejor randomForest score entregado por este modelo sería: \",(rf_pablo1.score(X_test_pablo,y_test_pablo).round(5)))"
   ]
  },
  {
   "cell_type": "markdown",
   "metadata": {},
   "source": [
    "# __Analisis:__\n",
    "### - Inicialmente se pensó, en realizar un modelo con el menor oob_score que se encontró en n_estimators=670, obteniendo una métrica score de 0.81037, sin embargo, no fue la mejor métrica score para randomForestRegression. Luego, se realizó otro procedimiento que dió cuenta que el menor oob_score se encontró en n_estimator=720, y su score fue de 0.81054, algo mejor pero no significativo. Es por ello, que se pricedió a graficar todos los score (sin tener en cuenta el oob_score) y obtener el n_estimators con el mejor score se encontró en n=270, obteniendo una métrica de 0.81107.\n",
    "    "
   ]
  },
  {
   "cell_type": "code",
   "execution_count": 127,
   "metadata": {},
   "outputs": [
    {
     "data": {
      "text/html": [
       "<div>\n",
       "<style scoped>\n",
       "    .dataframe tbody tr th:only-of-type {\n",
       "        vertical-align: middle;\n",
       "    }\n",
       "\n",
       "    .dataframe tbody tr th {\n",
       "        vertical-align: top;\n",
       "    }\n",
       "\n",
       "    .dataframe thead th {\n",
       "        text-align: right;\n",
       "    }\n",
       "</style>\n",
       "<table border=\"1\" class=\"dataframe\">\n",
       "  <thead>\n",
       "    <tr style=\"text-align: right;\">\n",
       "      <th></th>\n",
       "      <th>Modelos</th>\n",
       "      <th>n_estimators</th>\n",
       "      <th>Score</th>\n",
       "      <th>oob_score</th>\n",
       "    </tr>\n",
       "  </thead>\n",
       "  <tbody>\n",
       "    <tr>\n",
       "      <th>0</th>\n",
       "      <td>Modelo 1</td>\n",
       "      <td>670</td>\n",
       "      <td>0.81037</td>\n",
       "      <td>Si</td>\n",
       "    </tr>\n",
       "    <tr>\n",
       "      <th>1</th>\n",
       "      <td>Modelo 2</td>\n",
       "      <td>720</td>\n",
       "      <td>0.81054</td>\n",
       "      <td>Si</td>\n",
       "    </tr>\n",
       "    <tr>\n",
       "      <th>2</th>\n",
       "      <td>Modelo 3</td>\n",
       "      <td>270</td>\n",
       "      <td>0.81107</td>\n",
       "      <td>No</td>\n",
       "    </tr>\n",
       "  </tbody>\n",
       "</table>\n",
       "</div>"
      ],
      "text/plain": [
       "    Modelos  n_estimators    Score oob_score\n",
       "0  Modelo 1           670  0.81037        Si\n",
       "1  Modelo 2           720  0.81054        Si\n",
       "2  Modelo 3           270  0.81107        No"
      ]
     },
     "execution_count": 127,
     "metadata": {},
     "output_type": "execute_result"
    }
   ],
   "source": [
    "modelos=['Modelo 1','Modelo 2','Modelo 3'] \n",
    "n_estimators=[670,720,270]\n",
    "score=[0.81037,0.81054,0.81107]\n",
    "oob_score=['Si','Si','No']\n",
    "listado = list(zip(modelos,n_estimators,score,oob_score))\n",
    "pd.DataFrame(listado, columns = ['Modelos','n_estimators','Score','oob_score'])"
   ]
  },
  {
   "cell_type": "markdown",
   "metadata": {},
   "source": [
    " * oob_score, significa que el modelo que se realizó se basó en está métrica."
   ]
  },
  {
   "cell_type": "code",
   "execution_count": null,
   "metadata": {},
   "outputs": [],
   "source": []
  }
 ],
 "metadata": {
  "kernelspec": {
   "display_name": "Python 3",
   "language": "python",
   "name": "python3"
  },
  "language_info": {
   "codemirror_mode": {
    "name": "ipython",
    "version": 3
   },
   "file_extension": ".py",
   "mimetype": "text/x-python",
   "name": "python",
   "nbconvert_exporter": "python",
   "pygments_lexer": "ipython3",
   "version": "3.7.3"
  }
 },
 "nbformat": 4,
 "nbformat_minor": 2
}
